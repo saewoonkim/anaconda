{
 "cells": [
  {
   "cell_type": "code",
   "execution_count": 1,
   "id": "7d574d5b",
   "metadata": {},
   "outputs": [
    {
     "name": "stdout",
     "output_type": "stream",
     "text": [
      "WARNING:tensorflow:From C:\\Users\\kimtp\\anaconda3\\Lib\\site-packages\\keras\\src\\losses.py:2976: The name tf.losses.sparse_softmax_cross_entropy is deprecated. Please use tf.compat.v1.losses.sparse_softmax_cross_entropy instead.\n",
      "\n"
     ]
    }
   ],
   "source": [
    "import tensorflow as tf\n",
    "from tensorflow import keras\n",
    "import numpy as np\n",
    "import matplotlib.pyplot as plt"
   ]
  },
  {
   "cell_type": "code",
   "execution_count": 2,
   "id": "916a5331",
   "metadata": {},
   "outputs": [],
   "source": [
    "from tensorflow.keras.datasets import imdb\n",
    "from sklearn.model_selection import train_test_split"
   ]
  },
  {
   "cell_type": "code",
   "execution_count": 3,
   "id": "51e98dfd",
   "metadata": {},
   "outputs": [],
   "source": [
    "(train_input, train_target), (test_input, test_target) = imdb.load_data(num_words=500)"
   ]
  },
  {
   "cell_type": "code",
   "execution_count": 4,
   "id": "1c210849",
   "metadata": {},
   "outputs": [],
   "source": [
    "train_input, val_input, train_target, val_target = train_test_split(\n",
    "    train_input, train_target, test_size=0.2, random_state=42)"
   ]
  },
  {
   "cell_type": "code",
   "execution_count": 5,
   "id": "705d1a54",
   "metadata": {},
   "outputs": [],
   "source": [
    "from tensorflow.keras.preprocessing.sequence import pad_sequences\n",
    "train_seq = pad_sequences(train_input, maxlen = 100)\n",
    "val_seq = pad_sequences(val_input, maxlen=100)"
   ]
  },
  {
   "cell_type": "code",
   "execution_count": 6,
   "id": "a274a71d",
   "metadata": {},
   "outputs": [
    {
     "name": "stdout",
     "output_type": "stream",
     "text": [
      "WARNING:tensorflow:From C:\\Users\\kimtp\\anaconda3\\Lib\\site-packages\\keras\\src\\backend.py:873: The name tf.get_default_graph is deprecated. Please use tf.compat.v1.get_default_graph instead.\n",
      "\n"
     ]
    }
   ],
   "source": [
    "model = keras.Sequential()\n",
    "model.add(keras.layers.Embedding(500, 16, input_length=100))\n",
    "model.add(keras.layers.LSTM(8))\n",
    "model.add(keras.layers.Dense(1, activation='sigmoid'))"
   ]
  },
  {
   "cell_type": "code",
   "execution_count": 7,
   "id": "6a511219",
   "metadata": {},
   "outputs": [
    {
     "name": "stdout",
     "output_type": "stream",
     "text": [
      "Model: \"sequential\"\n",
      "_________________________________________________________________\n",
      " Layer (type)                Output Shape              Param #   \n",
      "=================================================================\n",
      " embedding (Embedding)       (None, 100, 16)           8000      \n",
      "                                                                 \n",
      " lstm (LSTM)                 (None, 8)                 800       \n",
      "                                                                 \n",
      " dense (Dense)               (None, 1)                 9         \n",
      "                                                                 \n",
      "=================================================================\n",
      "Total params: 8809 (34.41 KB)\n",
      "Trainable params: 8809 (34.41 KB)\n",
      "Non-trainable params: 0 (0.00 Byte)\n",
      "_________________________________________________________________\n"
     ]
    }
   ],
   "source": [
    "model.summary()"
   ]
  },
  {
   "cell_type": "code",
   "execution_count": 8,
   "id": "10994bf9",
   "metadata": {},
   "outputs": [
    {
     "name": "stdout",
     "output_type": "stream",
     "text": [
      "Epoch 1/100\n",
      "WARNING:tensorflow:From C:\\Users\\kimtp\\anaconda3\\Lib\\site-packages\\keras\\src\\utils\\tf_utils.py:492: The name tf.ragged.RaggedTensorValue is deprecated. Please use tf.compat.v1.ragged.RaggedTensorValue instead.\n",
      "\n",
      "WARNING:tensorflow:From C:\\Users\\kimtp\\anaconda3\\Lib\\site-packages\\keras\\src\\engine\\base_layer_utils.py:384: The name tf.executing_eagerly_outside_functions is deprecated. Please use tf.compat.v1.executing_eagerly_outside_functions instead.\n",
      "\n",
      "313/313 [==============================] - 9s 22ms/step - loss: 0.6920 - accuracy: 0.5350 - val_loss: 0.6911 - val_accuracy: 0.5626\n",
      "Epoch 2/100\n",
      "  7/313 [..............................] - ETA: 6s - loss: 0.6909 - accuracy: 0.5781"
     ]
    },
    {
     "name": "stderr",
     "output_type": "stream",
     "text": [
      "C:\\Users\\kimtp\\anaconda3\\Lib\\site-packages\\keras\\src\\engine\\training.py:3103: UserWarning: You are saving your model as an HDF5 file via `model.save()`. This file format is considered legacy. We recommend using instead the native Keras format, e.g. `model.save('my_model.keras')`.\n",
      "  saving_api.save_model(\n"
     ]
    },
    {
     "name": "stdout",
     "output_type": "stream",
     "text": [
      "313/313 [==============================] - 6s 21ms/step - loss: 0.6881 - accuracy: 0.6234 - val_loss: 0.6858 - val_accuracy: 0.6172\n",
      "Epoch 3/100\n",
      "313/313 [==============================] - 7s 21ms/step - loss: 0.6773 - accuracy: 0.6596 - val_loss: 0.6671 - val_accuracy: 0.6626\n",
      "Epoch 4/100\n",
      "313/313 [==============================] - 7s 21ms/step - loss: 0.6244 - accuracy: 0.7043 - val_loss: 0.5895 - val_accuracy: 0.7222\n",
      "Epoch 5/100\n",
      "313/313 [==============================] - 7s 21ms/step - loss: 0.5710 - accuracy: 0.7369 - val_loss: 0.5601 - val_accuracy: 0.7384\n",
      "Epoch 6/100\n",
      "313/313 [==============================] - 6s 20ms/step - loss: 0.5458 - accuracy: 0.7501 - val_loss: 0.5398 - val_accuracy: 0.7496\n",
      "Epoch 7/100\n",
      "313/313 [==============================] - 6s 21ms/step - loss: 0.5253 - accuracy: 0.7616 - val_loss: 0.5218 - val_accuracy: 0.7602\n",
      "Epoch 8/100\n",
      "313/313 [==============================] - 7s 21ms/step - loss: 0.5066 - accuracy: 0.7728 - val_loss: 0.5060 - val_accuracy: 0.7734\n",
      "Epoch 9/100\n",
      "313/313 [==============================] - 6s 21ms/step - loss: 0.4895 - accuracy: 0.7815 - val_loss: 0.4901 - val_accuracy: 0.7770\n",
      "Epoch 10/100\n",
      "313/313 [==============================] - 6s 21ms/step - loss: 0.4741 - accuracy: 0.7893 - val_loss: 0.4781 - val_accuracy: 0.7822\n",
      "Epoch 11/100\n",
      "313/313 [==============================] - 6s 20ms/step - loss: 0.4608 - accuracy: 0.7951 - val_loss: 0.4697 - val_accuracy: 0.7814\n",
      "Epoch 12/100\n",
      "313/313 [==============================] - 7s 21ms/step - loss: 0.4506 - accuracy: 0.8002 - val_loss: 0.4597 - val_accuracy: 0.7868\n",
      "Epoch 13/100\n",
      "313/313 [==============================] - 7s 21ms/step - loss: 0.4433 - accuracy: 0.8040 - val_loss: 0.4535 - val_accuracy: 0.7914\n",
      "Epoch 14/100\n",
      "313/313 [==============================] - 7s 21ms/step - loss: 0.4380 - accuracy: 0.8063 - val_loss: 0.4506 - val_accuracy: 0.7926\n",
      "Epoch 15/100\n",
      "313/313 [==============================] - 6s 21ms/step - loss: 0.4337 - accuracy: 0.8066 - val_loss: 0.4478 - val_accuracy: 0.7948\n",
      "Epoch 16/100\n",
      "313/313 [==============================] - 6s 20ms/step - loss: 0.4301 - accuracy: 0.8074 - val_loss: 0.4460 - val_accuracy: 0.7948\n",
      "Epoch 17/100\n",
      "313/313 [==============================] - 6s 21ms/step - loss: 0.4270 - accuracy: 0.8108 - val_loss: 0.4431 - val_accuracy: 0.7992\n",
      "Epoch 18/100\n",
      "313/313 [==============================] - 7s 21ms/step - loss: 0.4241 - accuracy: 0.8115 - val_loss: 0.4412 - val_accuracy: 0.7944\n",
      "Epoch 19/100\n",
      "313/313 [==============================] - 7s 21ms/step - loss: 0.4219 - accuracy: 0.8123 - val_loss: 0.4391 - val_accuracy: 0.7982\n",
      "Epoch 20/100\n",
      "313/313 [==============================] - 6s 20ms/step - loss: 0.4198 - accuracy: 0.8131 - val_loss: 0.4371 - val_accuracy: 0.7970\n",
      "Epoch 21/100\n",
      "313/313 [==============================] - 6s 20ms/step - loss: 0.4177 - accuracy: 0.8145 - val_loss: 0.4434 - val_accuracy: 0.7958\n",
      "Epoch 22/100\n",
      "313/313 [==============================] - 7s 21ms/step - loss: 0.4162 - accuracy: 0.8141 - val_loss: 0.4426 - val_accuracy: 0.7924\n",
      "Epoch 23/100\n",
      "313/313 [==============================] - 6s 20ms/step - loss: 0.4148 - accuracy: 0.8159 - val_loss: 0.4353 - val_accuracy: 0.7980\n",
      "Epoch 24/100\n",
      "313/313 [==============================] - 7s 21ms/step - loss: 0.4134 - accuracy: 0.8144 - val_loss: 0.4332 - val_accuracy: 0.8000\n",
      "Epoch 25/100\n",
      "313/313 [==============================] - 6s 20ms/step - loss: 0.4126 - accuracy: 0.8163 - val_loss: 0.4386 - val_accuracy: 0.7994\n",
      "Epoch 26/100\n",
      "313/313 [==============================] - 6s 20ms/step - loss: 0.4113 - accuracy: 0.8171 - val_loss: 0.4331 - val_accuracy: 0.8008\n",
      "Epoch 27/100\n",
      "313/313 [==============================] - 7s 21ms/step - loss: 0.4098 - accuracy: 0.8170 - val_loss: 0.4310 - val_accuracy: 0.8012\n",
      "Epoch 28/100\n",
      "313/313 [==============================] - 7s 21ms/step - loss: 0.4090 - accuracy: 0.8185 - val_loss: 0.4302 - val_accuracy: 0.8038\n",
      "Epoch 29/100\n",
      "313/313 [==============================] - 7s 21ms/step - loss: 0.4076 - accuracy: 0.8187 - val_loss: 0.4310 - val_accuracy: 0.8034\n",
      "Epoch 30/100\n",
      "313/313 [==============================] - 7s 21ms/step - loss: 0.4067 - accuracy: 0.8181 - val_loss: 0.4300 - val_accuracy: 0.8034\n",
      "Epoch 31/100\n",
      "313/313 [==============================] - 6s 21ms/step - loss: 0.4058 - accuracy: 0.8182 - val_loss: 0.4305 - val_accuracy: 0.8030\n",
      "Epoch 32/100\n",
      "313/313 [==============================] - 7s 21ms/step - loss: 0.4051 - accuracy: 0.8183 - val_loss: 0.4306 - val_accuracy: 0.8036\n",
      "Epoch 33/100\n",
      "313/313 [==============================] - 7s 21ms/step - loss: 0.4040 - accuracy: 0.8190 - val_loss: 0.4290 - val_accuracy: 0.8010\n",
      "Epoch 34/100\n",
      "313/313 [==============================] - 7s 21ms/step - loss: 0.4028 - accuracy: 0.8206 - val_loss: 0.4275 - val_accuracy: 0.8044\n",
      "Epoch 35/100\n",
      "313/313 [==============================] - 6s 20ms/step - loss: 0.4024 - accuracy: 0.8205 - val_loss: 0.4290 - val_accuracy: 0.8010\n",
      "Epoch 36/100\n",
      "313/313 [==============================] - 7s 21ms/step - loss: 0.4012 - accuracy: 0.8209 - val_loss: 0.4284 - val_accuracy: 0.8064\n",
      "Epoch 37/100\n",
      "313/313 [==============================] - 6s 21ms/step - loss: 0.4001 - accuracy: 0.8221 - val_loss: 0.4293 - val_accuracy: 0.8050\n"
     ]
    }
   ],
   "source": [
    "rmsprop = keras.optimizers.RMSprop(learning_rate=0.0001)\n",
    "model.compile(optimizer=rmsprop, loss='binary_crossentropy', metrics=['accuracy'])\n",
    "checkpoint_cb = keras.callbacks.ModelCheckpoint('best-lstm-model.h5', save_best_only=True)\n",
    "early_stopping_cb = keras.callbacks.EarlyStopping(patience=3, restore_best_weights=True)\n",
    "history = model.fit(train_seq, train_target, epochs=100, batch_size=64,\n",
    "                    validation_data=(val_seq, val_target),\n",
    "                    callbacks=[checkpoint_cb, early_stopping_cb])"
   ]
  },
  {
   "cell_type": "code",
   "execution_count": 9,
   "id": "124fe8e6",
   "metadata": {},
   "outputs": [
    {
     "data": {
      "image/png": "[encoded data removed]",
      "text/plain": [
       "<Figure size 640x480 with 1 Axes>"
      ]
     },
     "metadata": {},
     "output_type": "display_data"
    }
   ],
   "source": [
    "plt.plot(history.history['loss'])\n",
    "plt.plot(history.history['val_loss'])\n",
    "plt.xlabel('epoch')\n",
    "plt.ylabel('loss')\n",
    "plt.legend(['train', 'val'])\n",
    "plt.show()"
   ]
  },
  {
   "cell_type": "code",
   "execution_count": 10,
   "id": "5b321f1d",
   "metadata": {},
   "outputs": [],
   "source": [
    "model = keras.Sequential()\n",
    "model.add(keras.layers.Embedding(500, 16, input_length=100))\n",
    "model.add(keras.layers.LSTM(8, dropout=0.3, return_sequences=True))\n",
    "model.add(keras.layers.LSTM(8, dropout=0.3))\n",
    "model.add(keras.layers.Dense(1, activation='sigmoid'))"
   ]
  },
  {
   "cell_type": "code",
   "execution_count": 11,
   "id": "483bd3d9",
   "metadata": {},
   "outputs": [
    {
     "name": "stdout",
     "output_type": "stream",
     "text": [
      "Model: \"sequential_1\"\n",
      "_________________________________________________________________\n",
      " Layer (type)                Output Shape              Param #   \n",
      "=================================================================\n",
      " embedding_1 (Embedding)     (None, 100, 16)           8000      \n",
      "                                                                 \n",
      " lstm_1 (LSTM)               (None, 100, 8)            800       \n",
      "                                                                 \n",
      " lstm_2 (LSTM)               (None, 8)                 544       \n",
      "                                                                 \n",
      " dense_1 (Dense)             (None, 1)                 9         \n",
      "                                                                 \n",
      "=================================================================\n",
      "Total params: 9353 (36.54 KB)\n",
      "Trainable params: 9353 (36.54 KB)\n",
      "Non-trainable params: 0 (0.00 Byte)\n",
      "_________________________________________________________________\n"
     ]
    }
   ],
   "source": [
    "model.summary()"
   ]
  },
  {
   "cell_type": "code",
   "execution_count": 12,
   "id": "88b50bd8",
   "metadata": {},
   "outputs": [
    {
     "name": "stdout",
     "output_type": "stream",
     "text": [
      "Epoch 1/100\n",
      "313/313 [==============================] - 16s 44ms/step - loss: 0.6928 - accuracy: 0.5329 - val_loss: 0.6924 - val_accuracy: 0.5800\n",
      "Epoch 2/100\n",
      "313/313 [==============================] - 13s 41ms/step - loss: 0.6915 - accuracy: 0.5779 - val_loss: 0.6901 - val_accuracy: 0.6230\n",
      "Epoch 3/100\n",
      "313/313 [==============================] - 13s 41ms/step - loss: 0.6848 - accuracy: 0.6231 - val_loss: 0.6740 - val_accuracy: 0.6626\n",
      "Epoch 4/100\n",
      "313/313 [==============================] - 13s 41ms/step - loss: 0.6360 - accuracy: 0.6798 - val_loss: 0.5994 - val_accuracy: 0.6954\n",
      "Epoch 5/100\n",
      "313/313 [==============================] - 13s 41ms/step - loss: 0.5838 - accuracy: 0.7081 - val_loss: 0.5708 - val_accuracy: 0.7156\n",
      "Epoch 6/100\n",
      "313/313 [==============================] - 13s 41ms/step - loss: 0.5550 - accuracy: 0.7304 - val_loss: 0.5397 - val_accuracy: 0.7398\n",
      "Epoch 7/100\n",
      "313/313 [==============================] - 13s 42ms/step - loss: 0.5310 - accuracy: 0.7493 - val_loss: 0.5201 - val_accuracy: 0.7536\n",
      "Epoch 8/100\n",
      "313/313 [==============================] - 13s 41ms/step - loss: 0.5139 - accuracy: 0.7605 - val_loss: 0.5041 - val_accuracy: 0.7654\n",
      "Epoch 9/100\n",
      "313/313 [==============================] - 13s 41ms/step - loss: 0.5003 - accuracy: 0.7697 - val_loss: 0.4925 - val_accuracy: 0.7726\n",
      "Epoch 10/100\n",
      "313/313 [==============================] - 13s 41ms/step - loss: 0.4893 - accuracy: 0.7739 - val_loss: 0.4823 - val_accuracy: 0.7772\n",
      "Epoch 11/100\n",
      "313/313 [==============================] - 13s 41ms/step - loss: 0.4821 - accuracy: 0.7774 - val_loss: 0.4760 - val_accuracy: 0.7826\n",
      "Epoch 12/100\n",
      "313/313 [==============================] - 13s 41ms/step - loss: 0.4713 - accuracy: 0.7848 - val_loss: 0.4713 - val_accuracy: 0.7842\n",
      "Epoch 13/100\n",
      "313/313 [==============================] - 13s 40ms/step - loss: 0.4666 - accuracy: 0.7877 - val_loss: 0.4665 - val_accuracy: 0.7856\n",
      "Epoch 14/100\n",
      "313/313 [==============================] - 13s 41ms/step - loss: 0.4627 - accuracy: 0.7870 - val_loss: 0.4628 - val_accuracy: 0.7868\n",
      "Epoch 15/100\n",
      "313/313 [==============================] - 13s 40ms/step - loss: 0.4583 - accuracy: 0.7892 - val_loss: 0.4573 - val_accuracy: 0.7906\n",
      "Epoch 16/100\n",
      "313/313 [==============================] - 13s 41ms/step - loss: 0.4521 - accuracy: 0.7953 - val_loss: 0.4579 - val_accuracy: 0.7910\n",
      "Epoch 17/100\n",
      "313/313 [==============================] - 13s 41ms/step - loss: 0.4507 - accuracy: 0.7941 - val_loss: 0.4517 - val_accuracy: 0.7942\n",
      "Epoch 18/100\n",
      "313/313 [==============================] - 13s 41ms/step - loss: 0.4475 - accuracy: 0.7947 - val_loss: 0.4506 - val_accuracy: 0.7908\n",
      "Epoch 19/100\n",
      "313/313 [==============================] - 14s 44ms/step - loss: 0.4452 - accuracy: 0.7951 - val_loss: 0.4494 - val_accuracy: 0.7912\n",
      "Epoch 20/100\n",
      "313/313 [==============================] - 13s 41ms/step - loss: 0.4420 - accuracy: 0.7966 - val_loss: 0.4460 - val_accuracy: 0.7964\n",
      "Epoch 21/100\n",
      "313/313 [==============================] - 13s 41ms/step - loss: 0.4417 - accuracy: 0.7984 - val_loss: 0.4458 - val_accuracy: 0.7930\n",
      "Epoch 22/100\n",
      "313/313 [==============================] - 13s 40ms/step - loss: 0.4376 - accuracy: 0.8002 - val_loss: 0.4433 - val_accuracy: 0.7960\n",
      "Epoch 23/100\n",
      "313/313 [==============================] - 13s 40ms/step - loss: 0.4369 - accuracy: 0.8019 - val_loss: 0.4432 - val_accuracy: 0.7906\n",
      "Epoch 24/100\n",
      "313/313 [==============================] - 13s 41ms/step - loss: 0.4340 - accuracy: 0.8034 - val_loss: 0.4419 - val_accuracy: 0.7948\n",
      "Epoch 25/100\n",
      "313/313 [==============================] - 13s 41ms/step - loss: 0.4356 - accuracy: 0.8030 - val_loss: 0.4416 - val_accuracy: 0.7906\n",
      "Epoch 26/100\n",
      "313/313 [==============================] - 13s 41ms/step - loss: 0.4317 - accuracy: 0.8008 - val_loss: 0.4463 - val_accuracy: 0.7894\n",
      "Epoch 27/100\n",
      "313/313 [==============================] - 13s 40ms/step - loss: 0.4323 - accuracy: 0.8028 - val_loss: 0.4408 - val_accuracy: 0.7890\n",
      "Epoch 28/100\n",
      "313/313 [==============================] - 13s 40ms/step - loss: 0.4312 - accuracy: 0.8030 - val_loss: 0.4390 - val_accuracy: 0.8000\n",
      "Epoch 29/100\n",
      "313/313 [==============================] - 13s 41ms/step - loss: 0.4302 - accuracy: 0.8041 - val_loss: 0.4379 - val_accuracy: 0.7980\n",
      "Epoch 30/100\n",
      "313/313 [==============================] - 13s 41ms/step - loss: 0.4274 - accuracy: 0.8077 - val_loss: 0.4375 - val_accuracy: 0.8004\n",
      "Epoch 31/100\n",
      "313/313 [==============================] - 13s 41ms/step - loss: 0.4261 - accuracy: 0.8036 - val_loss: 0.4375 - val_accuracy: 0.7996\n",
      "Epoch 32/100\n",
      "313/313 [==============================] - 13s 41ms/step - loss: 0.4260 - accuracy: 0.8049 - val_loss: 0.4363 - val_accuracy: 0.7996\n",
      "Epoch 33/100\n",
      "313/313 [==============================] - 13s 41ms/step - loss: 0.4272 - accuracy: 0.8043 - val_loss: 0.4363 - val_accuracy: 0.7992\n",
      "Epoch 34/100\n",
      "313/313 [==============================] - 13s 40ms/step - loss: 0.4260 - accuracy: 0.8061 - val_loss: 0.4383 - val_accuracy: 0.8016\n",
      "Epoch 35/100\n",
      "313/313 [==============================] - 13s 41ms/step - loss: 0.4251 - accuracy: 0.8089 - val_loss: 0.4352 - val_accuracy: 0.7992\n",
      "Epoch 36/100\n",
      "313/313 [==============================] - 13s 40ms/step - loss: 0.4218 - accuracy: 0.8095 - val_loss: 0.4346 - val_accuracy: 0.8008\n",
      "Epoch 37/100\n",
      "313/313 [==============================] - 13s 40ms/step - loss: 0.4219 - accuracy: 0.8065 - val_loss: 0.4346 - val_accuracy: 0.7974\n",
      "Epoch 38/100\n",
      "313/313 [==============================] - 13s 40ms/step - loss: 0.4217 - accuracy: 0.8086 - val_loss: 0.4336 - val_accuracy: 0.8022\n",
      "Epoch 39/100\n",
      "313/313 [==============================] - 13s 40ms/step - loss: 0.4227 - accuracy: 0.8091 - val_loss: 0.4359 - val_accuracy: 0.8020\n",
      "Epoch 40/100\n",
      "313/313 [==============================] - 14s 46ms/step - loss: 0.4215 - accuracy: 0.8071 - val_loss: 0.4337 - val_accuracy: 0.8024\n",
      "Epoch 41/100\n",
      "313/313 [==============================] - 13s 41ms/step - loss: 0.4202 - accuracy: 0.8087 - val_loss: 0.4378 - val_accuracy: 0.7944\n"
     ]
    }
   ],
   "source": [
    "rmsprop = keras.optimizers.RMSprop(learning_rate=0.0001)\n",
    "model.compile(optimizer=rmsprop, loss='binary_crossentropy', metrics=['accuracy'])\n",
    "checkpoint_cb = keras.callbacks.ModelCheckpoint('best-2lstm-model.h5', save_best_only=True)\n",
    "early_stopping_cb = keras.callbacks.EarlyStopping(patience=3, restore_best_weights=True)\n",
    "history = model.fit(train_seq, train_target, epochs=100, batch_size=64,\n",
    "                    validation_data=(val_seq, val_target),\n",
    "                    callbacks=[checkpoint_cb, early_stopping_cb])"
   ]
  },
  {
   "cell_type": "markdown",
   "id": "4b46ae5c",
   "metadata": {},
   "source": [
    "# 순환 신경망 금융 (주가 데이터) 시계열 (시간에 따라 데이터가 쌓이는) "
   ]
  },
  {
   "cell_type": "code",
   "execution_count": 31,
   "id": "2249ae82",
   "metadata": {},
   "outputs": [],
   "source": [
    "import FinanceDataReader as fdr\n",
    "import numpy as np\n",
    "import matplotlib.pyplot as plt"
   ]
  },
  {
   "cell_type": "code",
   "execution_count": 32,
   "id": "1b282d21",
   "metadata": {},
   "outputs": [],
   "source": [
    "df = fdr.DataReader('005930', '2018-05-04','2020-01-22')\n",
    "###주식 번호, 날짜 시작 ~ 까지"
   ]
  },
  {
   "cell_type": "code",
   "execution_count": 33,
   "id": "f37ea82e",
   "metadata": {},
   "outputs": [
    {
     "data": {
      "text/html": [
       "<div>\n",
       "<style scoped>\n",
       "    .dataframe tbody tr th:only-of-type {\n",
       "        vertical-align: middle;\n",
       "    }\n",
       "\n",
       "    .dataframe tbody tr th {\n",
       "        vertical-align: top;\n",
       "    }\n",
       "\n",
       "    .dataframe thead th {\n",
       "        text-align: right;\n",
       "    }\n",
       "</style>\n",
       "<table border=\"1\" class=\"dataframe\">\n",
       "  <thead>\n",
       "    <tr style=\"text-align: right;\">\n",
       "      <th></th>\n",
       "      <th>Open</th>\n",
       "      <th>High</th>\n",
       "      <th>Low</th>\n",
       "      <th>Close</th>\n",
       "      <th>Volume</th>\n",
       "      <th>Change</th>\n",
       "    </tr>\n",
       "    <tr>\n",
       "      <th>Date</th>\n",
       "      <th></th>\n",
       "      <th></th>\n",
       "      <th></th>\n",
       "      <th></th>\n",
       "      <th></th>\n",
       "      <th></th>\n",
       "    </tr>\n",
       "  </thead>\n",
       "  <tbody>\n",
       "    <tr>\n",
       "      <th>2018-05-04</th>\n",
       "      <td>53000</td>\n",
       "      <td>53900</td>\n",
       "      <td>51800</td>\n",
       "      <td>51900</td>\n",
       "      <td>39565391</td>\n",
       "      <td>-0.020755</td>\n",
       "    </tr>\n",
       "    <tr>\n",
       "      <th>2018-05-08</th>\n",
       "      <td>52600</td>\n",
       "      <td>53200</td>\n",
       "      <td>51900</td>\n",
       "      <td>52600</td>\n",
       "      <td>23104720</td>\n",
       "      <td>0.013487</td>\n",
       "    </tr>\n",
       "    <tr>\n",
       "      <th>2018-05-09</th>\n",
       "      <td>52600</td>\n",
       "      <td>52800</td>\n",
       "      <td>50900</td>\n",
       "      <td>50900</td>\n",
       "      <td>16128305</td>\n",
       "      <td>-0.032319</td>\n",
       "    </tr>\n",
       "    <tr>\n",
       "      <th>2018-05-10</th>\n",
       "      <td>51700</td>\n",
       "      <td>51700</td>\n",
       "      <td>50600</td>\n",
       "      <td>51600</td>\n",
       "      <td>13905263</td>\n",
       "      <td>0.013752</td>\n",
       "    </tr>\n",
       "    <tr>\n",
       "      <th>2018-05-11</th>\n",
       "      <td>52000</td>\n",
       "      <td>52200</td>\n",
       "      <td>51200</td>\n",
       "      <td>51300</td>\n",
       "      <td>10314997</td>\n",
       "      <td>-0.005814</td>\n",
       "    </tr>\n",
       "    <tr>\n",
       "      <th>...</th>\n",
       "      <td>...</td>\n",
       "      <td>...</td>\n",
       "      <td>...</td>\n",
       "      <td>...</td>\n",
       "      <td>...</td>\n",
       "      <td>...</td>\n",
       "    </tr>\n",
       "    <tr>\n",
       "      <th>2020-01-16</th>\n",
       "      <td>59100</td>\n",
       "      <td>60700</td>\n",
       "      <td>59000</td>\n",
       "      <td>60700</td>\n",
       "      <td>14381774</td>\n",
       "      <td>0.028814</td>\n",
       "    </tr>\n",
       "    <tr>\n",
       "      <th>2020-01-17</th>\n",
       "      <td>61900</td>\n",
       "      <td>62000</td>\n",
       "      <td>61000</td>\n",
       "      <td>61300</td>\n",
       "      <td>16025661</td>\n",
       "      <td>0.009885</td>\n",
       "    </tr>\n",
       "    <tr>\n",
       "      <th>2020-01-20</th>\n",
       "      <td>62000</td>\n",
       "      <td>62800</td>\n",
       "      <td>61700</td>\n",
       "      <td>62400</td>\n",
       "      <td>12528855</td>\n",
       "      <td>0.017945</td>\n",
       "    </tr>\n",
       "    <tr>\n",
       "      <th>2020-01-21</th>\n",
       "      <td>62000</td>\n",
       "      <td>62400</td>\n",
       "      <td>61200</td>\n",
       "      <td>61400</td>\n",
       "      <td>11142693</td>\n",
       "      <td>-0.016026</td>\n",
       "    </tr>\n",
       "    <tr>\n",
       "      <th>2020-01-22</th>\n",
       "      <td>60500</td>\n",
       "      <td>62600</td>\n",
       "      <td>60400</td>\n",
       "      <td>62300</td>\n",
       "      <td>15339565</td>\n",
       "      <td>0.014658</td>\n",
       "    </tr>\n",
       "  </tbody>\n",
       "</table>\n",
       "<p>421 rows × 6 columns</p>\n",
       "</div>"
      ],
      "text/plain": [
       "             Open   High    Low  Close    Volume    Change\n",
       "Date                                                      \n",
       "2018-05-04  53000  53900  51800  51900  39565391 -0.020755\n",
       "2018-05-08  52600  53200  51900  52600  23104720  0.013487\n",
       "2018-05-09  52600  52800  50900  50900  16128305 -0.032319\n",
       "2018-05-10  51700  51700  50600  51600  13905263  0.013752\n",
       "2018-05-11  52000  52200  51200  51300  10314997 -0.005814\n",
       "...           ...    ...    ...    ...       ...       ...\n",
       "2020-01-16  59100  60700  59000  60700  14381774  0.028814\n",
       "2020-01-17  61900  62000  61000  61300  16025661  0.009885\n",
       "2020-01-20  62000  62800  61700  62400  12528855  0.017945\n",
       "2020-01-21  62000  62400  61200  61400  11142693 -0.016026\n",
       "2020-01-22  60500  62600  60400  62300  15339565  0.014658\n",
       "\n",
       "[421 rows x 6 columns]"
      ]
     },
     "execution_count": 33,
     "metadata": {},
     "output_type": "execute_result"
    }
   ],
   "source": [
    "df"
   ]
  },
  {
   "cell_type": "code",
   "execution_count": 34,
   "id": "e72defa2",
   "metadata": {},
   "outputs": [
    {
     "data": {
      "text/html": [
       "<div>\n",
       "<style scoped>\n",
       "    .dataframe tbody tr th:only-of-type {\n",
       "        vertical-align: middle;\n",
       "    }\n",
       "\n",
       "    .dataframe tbody tr th {\n",
       "        vertical-align: top;\n",
       "    }\n",
       "\n",
       "    .dataframe thead th {\n",
       "        text-align: right;\n",
       "    }\n",
       "</style>\n",
       "<table border=\"1\" class=\"dataframe\">\n",
       "  <thead>\n",
       "    <tr style=\"text-align: right;\">\n",
       "      <th></th>\n",
       "      <th>Open</th>\n",
       "      <th>High</th>\n",
       "      <th>Low</th>\n",
       "      <th>Close</th>\n",
       "      <th>Volume</th>\n",
       "      <th>Change</th>\n",
       "    </tr>\n",
       "    <tr>\n",
       "      <th>Date</th>\n",
       "      <th></th>\n",
       "      <th></th>\n",
       "      <th></th>\n",
       "      <th></th>\n",
       "      <th></th>\n",
       "      <th></th>\n",
       "    </tr>\n",
       "  </thead>\n",
       "  <tbody>\n",
       "    <tr>\n",
       "      <th>2018-05-04</th>\n",
       "      <td>53000</td>\n",
       "      <td>53900</td>\n",
       "      <td>51800</td>\n",
       "      <td>51900</td>\n",
       "      <td>39565391</td>\n",
       "      <td>-0.020755</td>\n",
       "    </tr>\n",
       "    <tr>\n",
       "      <th>2018-05-08</th>\n",
       "      <td>52600</td>\n",
       "      <td>53200</td>\n",
       "      <td>51900</td>\n",
       "      <td>52600</td>\n",
       "      <td>23104720</td>\n",
       "      <td>0.013487</td>\n",
       "    </tr>\n",
       "    <tr>\n",
       "      <th>2018-05-09</th>\n",
       "      <td>52600</td>\n",
       "      <td>52800</td>\n",
       "      <td>50900</td>\n",
       "      <td>50900</td>\n",
       "      <td>16128305</td>\n",
       "      <td>-0.032319</td>\n",
       "    </tr>\n",
       "    <tr>\n",
       "      <th>2018-05-10</th>\n",
       "      <td>51700</td>\n",
       "      <td>51700</td>\n",
       "      <td>50600</td>\n",
       "      <td>51600</td>\n",
       "      <td>13905263</td>\n",
       "      <td>0.013752</td>\n",
       "    </tr>\n",
       "    <tr>\n",
       "      <th>2018-05-11</th>\n",
       "      <td>52000</td>\n",
       "      <td>52200</td>\n",
       "      <td>51200</td>\n",
       "      <td>51300</td>\n",
       "      <td>10314997</td>\n",
       "      <td>-0.005814</td>\n",
       "    </tr>\n",
       "  </tbody>\n",
       "</table>\n",
       "</div>"
      ],
      "text/plain": [
       "             Open   High    Low  Close    Volume    Change\n",
       "Date                                                      \n",
       "2018-05-04  53000  53900  51800  51900  39565391 -0.020755\n",
       "2018-05-08  52600  53200  51900  52600  23104720  0.013487\n",
       "2018-05-09  52600  52800  50900  50900  16128305 -0.032319\n",
       "2018-05-10  51700  51700  50600  51600  13905263  0.013752\n",
       "2018-05-11  52000  52200  51200  51300  10314997 -0.005814"
      ]
     },
     "execution_count": 34,
     "metadata": {},
     "output_type": "execute_result"
    }
   ],
   "source": [
    "df.head()"
   ]
  },
  {
   "cell_type": "code",
   "execution_count": 35,
   "id": "c4e8aaa6",
   "metadata": {},
   "outputs": [
    {
     "name": "stdout",
     "output_type": "stream",
     "text": [
      "(421, 6)\n"
     ]
    }
   ],
   "source": [
    "print(df.shape)"
   ]
  },
  {
   "cell_type": "code",
   "execution_count": 36,
   "id": "935f5e33",
   "metadata": {},
   "outputs": [],
   "source": [
    "def MinMaxScaler(data):\n",
    "  ##최소값 최대값을 활용해 0~1 사이의 값으로 변환\n",
    "  numerator = data - np.min(data, 0)\n",
    "  denominator = np.max(data, 0) - np.min(data, 0)\n",
    "  return numerator / (denominator + 1e-7)"
   ]
  },
  {
   "cell_type": "code",
   "execution_count": 37,
   "id": "c3e3aa22",
   "metadata": {},
   "outputs": [],
   "source": [
    "dfx = df[['Open','High','Low','Volume',\t'Close']]"
   ]
  },
  {
   "cell_type": "code",
   "execution_count": 38,
   "id": "101859a0",
   "metadata": {},
   "outputs": [],
   "source": [
    "dfx = MinMaxScaler(dfx)"
   ]
  },
  {
   "cell_type": "code",
   "execution_count": 39,
   "id": "d037cc48",
   "metadata": {},
   "outputs": [
    {
     "data": {
      "text/html": [
       "<div>\n",
       "<style scoped>\n",
       "    .dataframe tbody tr th:only-of-type {\n",
       "        vertical-align: middle;\n",
       "    }\n",
       "\n",
       "    .dataframe tbody tr th {\n",
       "        vertical-align: top;\n",
       "    }\n",
       "\n",
       "    .dataframe thead th {\n",
       "        text-align: right;\n",
       "    }\n",
       "</style>\n",
       "<table border=\"1\" class=\"dataframe\">\n",
       "  <thead>\n",
       "    <tr style=\"text-align: right;\">\n",
       "      <th></th>\n",
       "      <th>Open</th>\n",
       "      <th>High</th>\n",
       "      <th>Low</th>\n",
       "      <th>Volume</th>\n",
       "      <th>Close</th>\n",
       "    </tr>\n",
       "    <tr>\n",
       "      <th>Date</th>\n",
       "      <th></th>\n",
       "      <th></th>\n",
       "      <th></th>\n",
       "      <th></th>\n",
       "      <th></th>\n",
       "    </tr>\n",
       "  </thead>\n",
       "  <tbody>\n",
       "    <tr>\n",
       "      <th>2018-05-04</th>\n",
       "      <td>0.633401</td>\n",
       "      <td>0.646825</td>\n",
       "      <td>0.601610</td>\n",
       "      <td>0.595060</td>\n",
       "      <td>0.579158</td>\n",
       "    </tr>\n",
       "    <tr>\n",
       "      <th>2018-05-08</th>\n",
       "      <td>0.617108</td>\n",
       "      <td>0.619048</td>\n",
       "      <td>0.605634</td>\n",
       "      <td>0.316465</td>\n",
       "      <td>0.607214</td>\n",
       "    </tr>\n",
       "    <tr>\n",
       "      <th>2018-05-09</th>\n",
       "      <td>0.617108</td>\n",
       "      <td>0.603175</td>\n",
       "      <td>0.565392</td>\n",
       "      <td>0.198390</td>\n",
       "      <td>0.539078</td>\n",
       "    </tr>\n",
       "    <tr>\n",
       "      <th>2018-05-10</th>\n",
       "      <td>0.580448</td>\n",
       "      <td>0.559524</td>\n",
       "      <td>0.553320</td>\n",
       "      <td>0.160765</td>\n",
       "      <td>0.567134</td>\n",
       "    </tr>\n",
       "    <tr>\n",
       "      <th>2018-05-11</th>\n",
       "      <td>0.592668</td>\n",
       "      <td>0.579365</td>\n",
       "      <td>0.577465</td>\n",
       "      <td>0.100000</td>\n",
       "      <td>0.555110</td>\n",
       "    </tr>\n",
       "  </tbody>\n",
       "</table>\n",
       "</div>"
      ],
      "text/plain": [
       "                Open      High       Low    Volume     Close\n",
       "Date                                                        \n",
       "2018-05-04  0.633401  0.646825  0.601610  0.595060  0.579158\n",
       "2018-05-08  0.617108  0.619048  0.605634  0.316465  0.607214\n",
       "2018-05-09  0.617108  0.603175  0.565392  0.198390  0.539078\n",
       "2018-05-10  0.580448  0.559524  0.553320  0.160765  0.567134\n",
       "2018-05-11  0.592668  0.579365  0.577465  0.100000  0.555110"
      ]
     },
     "execution_count": 39,
     "metadata": {},
     "output_type": "execute_result"
    }
   ],
   "source": [
    "dfx.head()"
   ]
  },
  {
   "cell_type": "code",
   "execution_count": 41,
   "id": "c2e7e8df",
   "metadata": {},
   "outputs": [],
   "source": [
    "dfy = dfx[['Close']]"
   ]
  },
  {
   "cell_type": "code",
   "execution_count": 49,
   "id": "02d12c2a",
   "metadata": {},
   "outputs": [],
   "source": [
    "dfx = dfx[['Open','High','Low','Volume']]"
   ]
  },
  {
   "cell_type": "code",
   "execution_count": 52,
   "id": "ae83b123",
   "metadata": {},
   "outputs": [
    {
     "data": {
      "text/html": [
       "<div>\n",
       "<style scoped>\n",
       "    .dataframe tbody tr th:only-of-type {\n",
       "        vertical-align: middle;\n",
       "    }\n",
       "\n",
       "    .dataframe tbody tr th {\n",
       "        vertical-align: top;\n",
       "    }\n",
       "\n",
       "    .dataframe thead th {\n",
       "        text-align: right;\n",
       "    }\n",
       "</style>\n",
       "<table border=\"1\" class=\"dataframe\">\n",
       "  <thead>\n",
       "    <tr style=\"text-align: right;\">\n",
       "      <th></th>\n",
       "      <th>Close</th>\n",
       "    </tr>\n",
       "    <tr>\n",
       "      <th>Date</th>\n",
       "      <th></th>\n",
       "    </tr>\n",
       "  </thead>\n",
       "  <tbody>\n",
       "    <tr>\n",
       "      <th>2018-05-04</th>\n",
       "      <td>0.579158</td>\n",
       "    </tr>\n",
       "    <tr>\n",
       "      <th>2018-05-08</th>\n",
       "      <td>0.607214</td>\n",
       "    </tr>\n",
       "    <tr>\n",
       "      <th>2018-05-09</th>\n",
       "      <td>0.539078</td>\n",
       "    </tr>\n",
       "    <tr>\n",
       "      <th>2018-05-10</th>\n",
       "      <td>0.567134</td>\n",
       "    </tr>\n",
       "    <tr>\n",
       "      <th>2018-05-11</th>\n",
       "      <td>0.555110</td>\n",
       "    </tr>\n",
       "  </tbody>\n",
       "</table>\n",
       "</div>"
      ],
      "text/plain": [
       "               Close\n",
       "Date                \n",
       "2018-05-04  0.579158\n",
       "2018-05-08  0.607214\n",
       "2018-05-09  0.539078\n",
       "2018-05-10  0.567134\n",
       "2018-05-11  0.555110"
      ]
     },
     "execution_count": 52,
     "metadata": {},
     "output_type": "execute_result"
    }
   ],
   "source": [
    "dfy.head()"
   ]
  },
  {
   "cell_type": "code",
   "execution_count": 53,
   "id": "0a617a2c",
   "metadata": {},
   "outputs": [],
   "source": [
    "x = dfx.values.tolist()\n",
    "y = dfy.values.tolist()"
   ]
  },
  {
   "cell_type": "code",
   "execution_count": 55,
   "id": "adcc6d21",
   "metadata": {},
   "outputs": [
    {
     "data": {
      "text/plain": [
       "[[0.6334012219933466,\n",
       "  0.64682539682283,\n",
       "  0.6016096579452651,\n",
       "  0.5950598479352758],\n",
       " [0.6171079429710097,\n",
       "  0.6190476190451625,\n",
       "  0.6056338028144642,\n",
       "  0.3164647972944813],\n",
       " [0.6171079429710097,\n",
       "  0.6031746031722096,\n",
       "  0.5653923541224732,\n",
       "  0.19838973885875907],\n",
       " [0.5804480651707518,\n",
       "  0.5595238095215892,\n",
       "  0.5533199195148759,\n",
       "  0.16076499691679247],\n",
       " [0.5926680244375044,\n",
       "  0.5793650793627803,\n",
       "  0.5774647887300706,\n",
       "  0.10000013878410015]]"
      ]
     },
     "execution_count": 55,
     "metadata": {},
     "output_type": "execute_result"
    }
   ],
   "source": [
    "x[0:5]"
   ]
  },
  {
   "cell_type": "code",
   "execution_count": 56,
   "id": "427efc76",
   "metadata": {},
   "outputs": [
    {
     "name": "stdout",
     "output_type": "stream",
     "text": [
      "[[0.7637474541720417, 0.7857142857111677, 0.7665995975824281, 0.323174686971615], [0.8533604887948947, 0.8333333333300265, 0.8269617706204146, 0.33335345138624783], [0.8696537678172315, 0.8769841269806469, 0.8631790744432065, 0.19622106804249292], [0.9022403258619053, 0.8888888888853615, 0.8953722333967993, 0.117672127572782], [0.9348268839065791, 0.9285714285677438, 0.927565392350392, 0.21155713424914332], [0.898167006106321, 0.8730158730124087, 0.8873239436584011, 0.1674615836301646], [0.8818737270839841, 0.9166666666630291, 0.8913480885276002, 0.16882989330989187], [0.9959266802403425, 0.968253968250126, 0.9718309859115821, 0.19665250042066781], [0.9999999999959267, 0.9999999999960317, 0.9999999999959758, 0.13746944253371812], [0.9999999999959267, 0.9841269841230789, 0.9798792756499803, 0.11400880277083453]] ->  [0.9959919839639438]\n"
     ]
    }
   ],
   "source": [
    "window_size = 10\n",
    "data_x = []\n",
    "data_y = []\n",
    "for i in range(len(y) - window_size):#이전10일간의 데이터\n",
    "  _x = x[i : i+window_size] # 다음 날 종가(i+window_size)는 미포함\n",
    "  _y = y[i + window_size] # 다음 날 종가\n",
    "  data_x.append(_x)\n",
    "  data_y.append(_y)\n",
    "print(_x,  \"-> \", _y)"
   ]
  },
  {
   "cell_type": "code",
   "execution_count": 59,
   "id": "793d5fef",
   "metadata": {},
   "outputs": [
    {
     "data": {
      "text/plain": [
       "[[0.6334012219933466,\n",
       "  0.64682539682283,\n",
       "  0.6016096579452651,\n",
       "  0.5950598479352758],\n",
       " [0.6171079429710097,\n",
       "  0.6190476190451625,\n",
       "  0.6056338028144642,\n",
       "  0.3164647972944813],\n",
       " [0.6171079429710097,\n",
       "  0.6031746031722096,\n",
       "  0.5653923541224732,\n",
       "  0.19838973885875907],\n",
       " [0.5804480651707518,\n",
       "  0.5595238095215892,\n",
       "  0.5533199195148759,\n",
       "  0.16076499691679247],\n",
       " [0.5926680244375044,\n",
       "  0.5793650793627803,\n",
       "  0.5774647887300706,\n",
       "  0.10000013878410015],\n",
       " [0.5519348268816622,\n",
       "  0.5357142857121598,\n",
       "  0.5251509054304823,\n",
       "  0.17775773908379244],\n",
       " [0.5193482688369884,\n",
       "  0.5079365079344923,\n",
       "  0.4929577464768895,\n",
       "  0.24207018961868487],\n",
       " [0.47861507128114616,\n",
       "  0.49999999999801586,\n",
       "  0.49496981891148906,\n",
       "  0.19484190950809502],\n",
       " [0.5234215885925726,\n",
       "  0.5119047619027305,\n",
       "  0.5050301810844868,\n",
       "  0.100853881024588],\n",
       " [0.5071283095702357,\n",
       "  0.4880952380933012,\n",
       "  0.5030181086498873,\n",
       "  0.03892790771899896]]"
      ]
     },
     "execution_count": 59,
     "metadata": {},
     "output_type": "execute_result"
    }
   ],
   "source": [
    "data_x[0]"
   ]
  },
  {
   "cell_type": "code",
   "execution_count": 60,
   "id": "8eb1d192",
   "metadata": {},
   "outputs": [
    {
     "name": "stdout",
     "output_type": "stream",
     "text": [
      "전체데이터 크기 :  411 411\n"
     ]
    }
   ],
   "source": [
    "print('전체데이터 크기 : ', len(data_x), len(data_y))"
   ]
  },
  {
   "cell_type": "code",
   "execution_count": 61,
   "id": "50bd261d",
   "metadata": {},
   "outputs": [],
   "source": [
    "train_size = int(len(data_y) * 0.7)\n",
    "train_x = np.array(data_x[0 : train_size])\n",
    "train_y = np.array(data_y[0 : train_size])\n",
    "\n",
    "test_size = len(data_y) - train_size\n",
    "test_x = np.array(data_x[train_size : len(data_x)])\n",
    "test_y = np.array(data_y[train_size : len(data_y)])"
   ]
  },
  {
   "cell_type": "code",
   "execution_count": 62,
   "id": "d0d0f4e6",
   "metadata": {},
   "outputs": [
    {
     "name": "stdout",
     "output_type": "stream",
     "text": [
      "훈련데이터 :  (287, 10, 4) (287, 1)\n",
      "테스트데이터 :  (124, 10, 4) (124, 1)\n"
     ]
    }
   ],
   "source": [
    "print('훈련데이터 : ', train_x.shape, train_y.shape)\n",
    "print('테스트데이터 : ', test_x.shape, test_y.shape)"
   ]
  },
  {
   "cell_type": "code",
   "execution_count": 63,
   "id": "ea7c3ec9",
   "metadata": {},
   "outputs": [],
   "source": [
    "from tensorflow.keras import Sequential\n",
    "from tensorflow.keras.layers import Dense, LSTM, Dropout"
   ]
  },
  {
   "cell_type": "code",
   "execution_count": 64,
   "id": "a2d11b94",
   "metadata": {},
   "outputs": [],
   "source": [
    "model = Sequential()# 인풋 쉐잎 하루에4개씩 10일동안 이라는 뜻\n",
    "model.add(LSTM(20, activation='relu', input_shape=(10,4), dropout=0.1, return_sequences=True))\n",
    "model.add(LSTM(20, activation='relu'))\n",
    "model.add(Dense(1))"
   ]
  },
  {
   "cell_type": "code",
   "execution_count": 65,
   "id": "b5ca9eb4",
   "metadata": {},
   "outputs": [
    {
     "name": "stdout",
     "output_type": "stream",
     "text": [
      "Model: \"sequential_2\"\n",
      "_________________________________________________________________\n",
      " Layer (type)                Output Shape              Param #   \n",
      "=================================================================\n",
      " lstm_3 (LSTM)               (None, 10, 20)            2000      \n",
      "                                                                 \n",
      " lstm_4 (LSTM)               (None, 20)                3280      \n",
      "                                                                 \n",
      " dense_2 (Dense)             (None, 1)                 21        \n",
      "                                                                 \n",
      "=================================================================\n",
      "Total params: 5301 (20.71 KB)\n",
      "Trainable params: 5301 (20.71 KB)\n",
      "Non-trainable params: 0 (0.00 Byte)\n",
      "_________________________________________________________________\n"
     ]
    }
   ],
   "source": [
    "model.summary()"
   ]
  },
  {
   "cell_type": "code",
   "execution_count": 66,
   "id": "974e0a04",
   "metadata": {},
   "outputs": [
    {
     "name": "stdout",
     "output_type": "stream",
     "text": [
      "WARNING:tensorflow:From C:\\Users\\kimtp\\anaconda3\\Lib\\site-packages\\keras\\src\\optimizers\\__init__.py:309: The name tf.train.Optimizer is deprecated. Please use tf.compat.v1.train.Optimizer instead.\n",
      "\n",
      "Epoch 1/100\n",
      "10/10 [==============================] - 2s 5ms/step - loss: 0.0797\n",
      "Epoch 2/100\n",
      "10/10 [==============================] - 0s 5ms/step - loss: 0.0406\n",
      "Epoch 3/100\n",
      "10/10 [==============================] - 0s 4ms/step - loss: 0.0106\n",
      "Epoch 4/100\n",
      "10/10 [==============================] - 0s 4ms/step - loss: 0.0073\n",
      "Epoch 5/100\n",
      "10/10 [==============================] - 0s 6ms/step - loss: 0.0046\n",
      "Epoch 6/100\n",
      "10/10 [==============================] - 0s 4ms/step - loss: 0.0046\n",
      "Epoch 7/100\n",
      "10/10 [==============================] - 0s 4ms/step - loss: 0.0040\n",
      "Epoch 8/100\n",
      "10/10 [==============================] - 0s 4ms/step - loss: 0.0039\n",
      "Epoch 9/100\n",
      "10/10 [==============================] - 0s 4ms/step - loss: 0.0036\n",
      "Epoch 10/100\n",
      "10/10 [==============================] - 0s 4ms/step - loss: 0.0036\n",
      "Epoch 11/100\n",
      "10/10 [==============================] - 0s 4ms/step - loss: 0.0033\n",
      "Epoch 12/100\n",
      "10/10 [==============================] - 0s 4ms/step - loss: 0.0032\n",
      "Epoch 13/100\n",
      "10/10 [==============================] - 0s 4ms/step - loss: 0.0032\n",
      "Epoch 14/100\n",
      "10/10 [==============================] - 0s 4ms/step - loss: 0.0032\n",
      "Epoch 15/100\n",
      "10/10 [==============================] - 0s 4ms/step - loss: 0.0031\n",
      "Epoch 16/100\n",
      "10/10 [==============================] - 0s 4ms/step - loss: 0.0029\n",
      "Epoch 17/100\n",
      "10/10 [==============================] - 0s 5ms/step - loss: 0.0030\n",
      "Epoch 18/100\n",
      "10/10 [==============================] - 0s 5ms/step - loss: 0.0028\n",
      "Epoch 19/100\n",
      "10/10 [==============================] - 0s 5ms/step - loss: 0.0027\n",
      "Epoch 20/100\n",
      "10/10 [==============================] - 0s 5ms/step - loss: 0.0029\n",
      "Epoch 21/100\n",
      "10/10 [==============================] - 0s 5ms/step - loss: 0.0030\n",
      "Epoch 22/100\n",
      "10/10 [==============================] - 0s 5ms/step - loss: 0.0028\n",
      "Epoch 23/100\n",
      "10/10 [==============================] - 0s 4ms/step - loss: 0.0030\n",
      "Epoch 24/100\n",
      "10/10 [==============================] - 0s 4ms/step - loss: 0.0027\n",
      "Epoch 25/100\n",
      "10/10 [==============================] - 0s 4ms/step - loss: 0.0028\n",
      "Epoch 26/100\n",
      "10/10 [==============================] - 0s 4ms/step - loss: 0.0027\n",
      "Epoch 27/100\n",
      "10/10 [==============================] - 0s 4ms/step - loss: 0.0027\n",
      "Epoch 28/100\n",
      "10/10 [==============================] - 0s 4ms/step - loss: 0.0026\n",
      "Epoch 29/100\n",
      "10/10 [==============================] - 0s 4ms/step - loss: 0.0025\n",
      "Epoch 30/100\n",
      "10/10 [==============================] - 0s 4ms/step - loss: 0.0028\n",
      "Epoch 31/100\n",
      "10/10 [==============================] - 0s 4ms/step - loss: 0.0026\n",
      "Epoch 32/100\n",
      "10/10 [==============================] - 0s 4ms/step - loss: 0.0026\n",
      "Epoch 33/100\n",
      "10/10 [==============================] - 0s 4ms/step - loss: 0.0029\n",
      "Epoch 34/100\n",
      "10/10 [==============================] - 0s 5ms/step - loss: 0.0024\n",
      "Epoch 35/100\n",
      "10/10 [==============================] - 0s 5ms/step - loss: 0.0027\n",
      "Epoch 36/100\n",
      "10/10 [==============================] - 0s 5ms/step - loss: 0.0029\n",
      "Epoch 37/100\n",
      "10/10 [==============================] - 0s 5ms/step - loss: 0.0026\n",
      "Epoch 38/100\n",
      "10/10 [==============================] - 0s 4ms/step - loss: 0.0027\n",
      "Epoch 39/100\n",
      "10/10 [==============================] - 0s 4ms/step - loss: 0.0025\n",
      "Epoch 40/100\n",
      "10/10 [==============================] - 0s 4ms/step - loss: 0.0025\n",
      "Epoch 41/100\n",
      "10/10 [==============================] - 0s 4ms/step - loss: 0.0023\n",
      "Epoch 42/100\n",
      "10/10 [==============================] - 0s 5ms/step - loss: 0.0025\n",
      "Epoch 43/100\n",
      "10/10 [==============================] - 0s 4ms/step - loss: 0.0023\n",
      "Epoch 44/100\n",
      "10/10 [==============================] - 0s 5ms/step - loss: 0.0026\n",
      "Epoch 45/100\n",
      "10/10 [==============================] - 0s 4ms/step - loss: 0.0026\n",
      "Epoch 46/100\n",
      "10/10 [==============================] - 0s 5ms/step - loss: 0.0024\n",
      "Epoch 47/100\n",
      "10/10 [==============================] - 0s 4ms/step - loss: 0.0025\n",
      "Epoch 48/100\n",
      "10/10 [==============================] - 0s 5ms/step - loss: 0.0023\n",
      "Epoch 49/100\n",
      "10/10 [==============================] - 0s 4ms/step - loss: 0.0026\n",
      "Epoch 50/100\n",
      "10/10 [==============================] - 0s 4ms/step - loss: 0.0024\n",
      "Epoch 51/100\n",
      "10/10 [==============================] - 0s 4ms/step - loss: 0.0025\n",
      "Epoch 52/100\n",
      "10/10 [==============================] - 0s 4ms/step - loss: 0.0025\n",
      "Epoch 53/100\n",
      "10/10 [==============================] - 0s 4ms/step - loss: 0.0023\n",
      "Epoch 54/100\n",
      "10/10 [==============================] - 0s 4ms/step - loss: 0.0024\n",
      "Epoch 55/100\n",
      "10/10 [==============================] - 0s 5ms/step - loss: 0.0023\n",
      "Epoch 56/100\n",
      "10/10 [==============================] - 0s 5ms/step - loss: 0.0023\n",
      "Epoch 57/100\n",
      "10/10 [==============================] - 0s 5ms/step - loss: 0.0023\n",
      "Epoch 58/100\n",
      "10/10 [==============================] - 0s 4ms/step - loss: 0.0022\n",
      "Epoch 59/100\n",
      "10/10 [==============================] - 0s 5ms/step - loss: 0.0023\n",
      "Epoch 60/100\n",
      "10/10 [==============================] - 0s 4ms/step - loss: 0.0021\n",
      "Epoch 61/100\n",
      "10/10 [==============================] - 0s 4ms/step - loss: 0.0022\n",
      "Epoch 62/100\n",
      "10/10 [==============================] - 0s 4ms/step - loss: 0.0024\n",
      "Epoch 63/100\n",
      "10/10 [==============================] - 0s 4ms/step - loss: 0.0022\n",
      "Epoch 64/100\n",
      "10/10 [==============================] - 0s 4ms/step - loss: 0.0021\n",
      "Epoch 65/100\n",
      "10/10 [==============================] - 0s 4ms/step - loss: 0.0026\n",
      "Epoch 66/100\n",
      "10/10 [==============================] - 0s 5ms/step - loss: 0.0025\n",
      "Epoch 67/100\n",
      "10/10 [==============================] - 0s 4ms/step - loss: 0.0022\n",
      "Epoch 68/100\n",
      "10/10 [==============================] - 0s 4ms/step - loss: 0.0024\n",
      "Epoch 69/100\n",
      "10/10 [==============================] - 0s 5ms/step - loss: 0.0022\n",
      "Epoch 70/100\n",
      "10/10 [==============================] - 0s 5ms/step - loss: 0.0023\n",
      "Epoch 71/100\n",
      "10/10 [==============================] - 0s 5ms/step - loss: 0.0021\n",
      "Epoch 72/100\n",
      "10/10 [==============================] - 0s 4ms/step - loss: 0.0023\n",
      "Epoch 73/100\n",
      "10/10 [==============================] - 0s 4ms/step - loss: 0.0022\n",
      "Epoch 74/100\n",
      "10/10 [==============================] - 0s 4ms/step - loss: 0.0022\n",
      "Epoch 75/100\n",
      "10/10 [==============================] - 0s 4ms/step - loss: 0.0021\n",
      "Epoch 76/100\n",
      "10/10 [==============================] - 0s 4ms/step - loss: 0.0020\n",
      "Epoch 77/100\n",
      "10/10 [==============================] - 0s 4ms/step - loss: 0.0021\n",
      "Epoch 78/100\n",
      "10/10 [==============================] - 0s 5ms/step - loss: 0.0021\n",
      "Epoch 79/100\n",
      "10/10 [==============================] - 0s 4ms/step - loss: 0.0020\n",
      "Epoch 80/100\n",
      "10/10 [==============================] - 0s 4ms/step - loss: 0.0022\n",
      "Epoch 81/100\n",
      "10/10 [==============================] - 0s 5ms/step - loss: 0.0023\n",
      "Epoch 82/100\n",
      "10/10 [==============================] - 0s 4ms/step - loss: 0.0020\n",
      "Epoch 83/100\n",
      "10/10 [==============================] - 0s 4ms/step - loss: 0.0020\n",
      "Epoch 84/100\n",
      "10/10 [==============================] - 0s 4ms/step - loss: 0.0020\n",
      "Epoch 85/100\n",
      "10/10 [==============================] - 0s 4ms/step - loss: 0.0021\n",
      "Epoch 86/100\n",
      "10/10 [==============================] - 0s 4ms/step - loss: 0.0021\n",
      "Epoch 87/100\n",
      "10/10 [==============================] - 0s 5ms/step - loss: 0.0021\n",
      "Epoch 88/100\n",
      "10/10 [==============================] - 0s 4ms/step - loss: 0.0021\n",
      "Epoch 89/100\n",
      "10/10 [==============================] - 0s 5ms/step - loss: 0.0020\n",
      "Epoch 90/100\n",
      "10/10 [==============================] - 0s 4ms/step - loss: 0.0020\n",
      "Epoch 91/100\n",
      "10/10 [==============================] - 0s 5ms/step - loss: 0.0020\n",
      "Epoch 92/100\n",
      "10/10 [==============================] - 0s 4ms/step - loss: 0.0021\n",
      "Epoch 93/100\n",
      "10/10 [==============================] - 0s 4ms/step - loss: 0.0021\n",
      "Epoch 94/100\n",
      "10/10 [==============================] - 0s 4ms/step - loss: 0.0022\n",
      "Epoch 95/100\n",
      "10/10 [==============================] - 0s 4ms/step - loss: 0.0021\n",
      "Epoch 96/100\n",
      "10/10 [==============================] - 0s 4ms/step - loss: 0.0024\n",
      "Epoch 97/100\n",
      "10/10 [==============================] - 0s 4ms/step - loss: 0.0022\n",
      "Epoch 98/100\n",
      "10/10 [==============================] - 0s 5ms/step - loss: 0.0025\n",
      "Epoch 99/100\n"
     ]
    },
    {
     "name": "stdout",
     "output_type": "stream",
     "text": [
      "10/10 [==============================] - 0s 5ms/step - loss: 0.0022\n",
      "Epoch 100/100\n",
      "10/10 [==============================] - 0s 4ms/step - loss: 0.0020\n"
     ]
    },
    {
     "data": {
      "text/plain": [
       "<keras.src.callbacks.History at 0x1bff6551590>"
      ]
     },
     "execution_count": 66,
     "metadata": {},
     "output_type": "execute_result"
    }
   ],
   "source": [
    "model.compile(optimizer='adam', loss='mean_squared_error')\n",
    "model.fit(train_x, train_y, epochs=100, batch_size=30)\n",
    "\n",
    "#model.compile(optimizer='rmsprop', loss='mean_squared_error', metrics=['accuracy'])\n",
    "#early_stopping = keras.callbacks.EarlyStopping(patience=3, restore_best_weights=True)\n",
    "#model.fit(train_x, train_y, epochs=100, batch_size=30,\n",
    "#          validation_data = (test_x, test_y),\n",
    "#          callbacks=[early_stopping])"
   ]
  },
  {
   "cell_type": "code",
   "execution_count": 67,
   "id": "9b50bc2a",
   "metadata": {},
   "outputs": [
    {
     "name": "stdout",
     "output_type": "stream",
     "text": [
      "4/4 [==============================] - 0s 3ms/step\n"
     ]
    }
   ],
   "source": [
    "pred_y = model.predict(test_x)"
   ]
  },
  {
   "cell_type": "code",
   "execution_count": 68,
   "id": "ef326f9c",
   "metadata": {},
   "outputs": [
    {
     "name": "stdout",
     "output_type": "stream",
     "text": [
      "[[0.32850605]\n",
      " [0.33528042]\n",
      " [0.33736604]\n",
      " [0.33867607]\n",
      " [0.3395538 ]\n",
      " [0.33887216]\n",
      " [0.33695385]\n",
      " [0.3287443 ]\n",
      " [0.3163809 ]\n",
      " [0.30108505]\n",
      " [0.2852024 ]\n",
      " [0.26454255]\n",
      " [0.25100365]\n",
      " [0.23838131]\n",
      " [0.23353872]\n",
      " [0.23731302]\n",
      " [0.23875245]\n",
      " [0.2440471 ]\n",
      " [0.24737915]\n",
      " [0.25286612]\n",
      " [0.25530556]\n",
      " [0.2596882 ]\n",
      " [0.26320612]\n",
      " [0.26196215]\n",
      " [0.25540924]\n",
      " [0.2519499 ]\n",
      " [0.25213835]\n",
      " [0.25059244]\n",
      " [0.2513961 ]\n",
      " [0.2566201 ]\n",
      " [0.25448504]\n",
      " [0.2520393 ]\n",
      " [0.26008257]\n",
      " [0.27791005]\n",
      " [0.29799137]\n",
      " [0.31674683]\n",
      " [0.33280736]\n",
      " [0.33916152]\n",
      " [0.34536046]\n",
      " [0.3491612 ]\n",
      " [0.3614336 ]\n",
      " [0.38030434]\n",
      " [0.39692643]\n",
      " [0.40793046]\n",
      " [0.41098303]\n",
      " [0.41190943]\n",
      " [0.40440455]\n",
      " [0.3977257 ]\n",
      " [0.39805067]\n",
      " [0.3936271 ]\n",
      " [0.38538402]\n",
      " [0.38085932]\n",
      " [0.37719774]\n",
      " [0.3784136 ]\n",
      " [0.38791412]\n",
      " [0.40587148]\n",
      " [0.42209512]\n",
      " [0.43608934]\n",
      " [0.44360724]\n",
      " [0.44599044]\n",
      " [0.44622752]\n",
      " [0.45298016]\n",
      " [0.4608207 ]\n",
      " [0.46953157]\n",
      " [0.47303945]\n",
      " [0.47734815]\n",
      " [0.4824213 ]\n",
      " [0.47692913]\n",
      " [0.47357255]\n",
      " [0.47062105]\n",
      " [0.47696507]\n",
      " [0.4897961 ]\n",
      " [0.5047179 ]\n",
      " [0.5169015 ]\n",
      " [0.5248375 ]\n",
      " [0.5221703 ]\n",
      " [0.5207587 ]\n",
      " [0.5218732 ]\n",
      " [0.51895326]\n",
      " [0.5265644 ]\n",
      " [0.537699  ]\n",
      " [0.54279935]\n",
      " [0.5385435 ]\n",
      " [0.5215032 ]\n",
      " [0.5082162 ]\n",
      " [0.50634074]\n",
      " [0.50236535]\n",
      " [0.50826305]\n",
      " [0.50919473]\n",
      " [0.5015967 ]\n",
      " [0.48725122]\n",
      " [0.46903282]\n",
      " [0.45245367]\n",
      " [0.4450124 ]\n",
      " [0.44483158]\n",
      " [0.4539628 ]\n",
      " [0.4653896 ]\n",
      " [0.47663283]\n",
      " [0.49289122]\n",
      " [0.52492994]\n",
      " [0.5556423 ]\n",
      " [0.5859969 ]\n",
      " [0.61851406]\n",
      " [0.6430666 ]\n",
      " [0.65392464]\n",
      " [0.65879446]\n",
      " [0.6553309 ]\n",
      " [0.6426906 ]\n",
      " [0.64267915]\n",
      " [0.6495341 ]\n",
      " [0.64487064]\n",
      " [0.64129704]\n",
      " [0.63308144]\n",
      " [0.6374461 ]\n",
      " [0.6395254 ]\n",
      " [0.6616022 ]\n",
      " [0.69862324]\n",
      " [0.7419484 ]\n",
      " [0.77334124]\n",
      " [0.7826765 ]\n",
      " [0.78839153]\n",
      " [0.81742233]\n",
      " [0.84924006]\n",
      " [0.8678128 ]]\n"
     ]
    }
   ],
   "source": [
    "print(pred_y)"
   ]
  },
  {
   "cell_type": "code",
   "execution_count": 69,
   "id": "f98b78c8",
   "metadata": {},
   "outputs": [
    {
     "data": {
      "image/png": "[encoded data removed]",
      "text/plain": [
       "<Figure size 640x480 with 1 Axes>"
      ]
     },
     "metadata": {},
     "output_type": "display_data"
    }
   ],
   "source": [
    "plt.figure()\n",
    "plt.plot(test_y, color='red', label='real SEC stock price')\n",
    "plt.plot(pred_y, color='blue', label='predicted SEC stock price')\n",
    "plt.title('Stock predict')\n",
    "plt.xlabel('time')\n",
    "plt.ylabel('stock price')\n",
    "plt.legend()\n",
    "plt.show()"
   ]
  },
  {
   "cell_type": "code",
   "execution_count": 70,
   "id": "745a8da4",
   "metadata": {},
   "outputs": [
    {
     "name": "stdout",
     "output_type": "stream",
     "text": [
      "내일 SEC 주가 :  [54282.3] KRW\n"
     ]
    }
   ],
   "source": [
    "print(\"내일 SEC 주가 : \", df.Close[-1] * pred_y[-1] / dfy.Close[-1], \"KRW\")"
   ]
  },
  {
   "cell_type": "markdown",
   "id": "a302cb12",
   "metadata": {},
   "source": [
    "# 댓글"
   ]
  },
  {
   "cell_type": "code",
   "execution_count": 71,
   "id": "d0b42166",
   "metadata": {},
   "outputs": [
    {
     "name": "stdout",
     "output_type": "stream",
     "text": [
      "Downloading data from https://raw.githubusercontent.com/e9t/nsmc/master/ratings_train.txt\n",
      "14628807/14628807 [==============================] - 2s 0us/step\n",
      "Downloading data from https://raw.githubusercontent.com/e9t/nsmc/master/ratings_test.txt\n",
      "4893335/4893335 [==============================] - 1s 0us/step\n"
     ]
    }
   ],
   "source": [
    "path_to_train_file = tf.keras.utils.get_file('train.txt', 'https://raw.githubusercontent.com/e9t/nsmc/master/ratings_train.txt')\n",
    "path_to_test_file = tf.keras.utils.get_file('test.txt', 'https://raw.githubusercontent.com/e9t/nsmc/master/ratings_test.txt')"
   ]
  },
  {
   "cell_type": "code",
   "execution_count": 72,
   "id": "a5cd422d",
   "metadata": {},
   "outputs": [
    {
     "data": {
      "text/plain": [
       "'C:\\\\Users\\\\kimtp\\\\.keras\\\\datasets\\\\train.txt'"
      ]
     },
     "execution_count": 72,
     "metadata": {},
     "output_type": "execute_result"
    }
   ],
   "source": [
    "path_to_train_file"
   ]
  },
  {
   "cell_type": "code",
   "execution_count": 73,
   "id": "bbd41373",
   "metadata": {},
   "outputs": [],
   "source": [
    "train_text = open(path_to_train_file, 'rb').read().decode(encoding='utf-8')"
   ]
  },
  {
   "cell_type": "code",
   "execution_count": 74,
   "id": "4f98ce8d",
   "metadata": {},
   "outputs": [],
   "source": [
    "test_text = open(path_to_test_file, 'rb').read().decode(encoding='utf-8')"
   ]
  },
  {
   "cell_type": "code",
   "execution_count": 75,
   "id": "06ba3ece",
   "metadata": {},
   "outputs": [
    {
     "name": "stdout",
     "output_type": "stream",
     "text": [
      "id\tdocument\tlabel\n",
      "9976970\t아 더빙.. 진짜 짜증나네요 목소리\t0\n",
      "3819312\t흠...포스터보고 초딩영화줄....오버연기조차 가볍지 않구나\t1\n",
      "10265843\n"
     ]
    }
   ],
   "source": [
    "print(train_text[0:100])"
   ]
  },
  {
   "cell_type": "code",
   "execution_count": 76,
   "id": "5c539443",
   "metadata": {},
   "outputs": [
    {
     "name": "stdout",
     "output_type": "stream",
     "text": [
      "(150000, 1) (50000, 1)\n",
      "[[0]\n",
      " [1]\n",
      " [0]\n",
      " [0]\n",
      " [1]]\n"
     ]
    }
   ],
   "source": [
    "train_Y = np.array([[int(row.split('\\t')[2])] for row in train_text.split('\\n')[1:] if row.count('\\t') > 0])\n",
    "test_Y = np.array([[int(row.split('\\t')[2])] for row in test_text.split('\\n')[1:] if row.count('\\t') > 0])\n",
    "print(train_Y.shape, test_Y.shape)\n",
    "print(train_Y[:5])"
   ]
  },
  {
   "cell_type": "code",
   "execution_count": 77,
   "id": "7e3e2379",
   "metadata": {},
   "outputs": [],
   "source": [
    "import re"
   ]
  },
  {
   "cell_type": "code",
   "execution_count": 105,
   "id": "64c2581b",
   "metadata": {},
   "outputs": [],
   "source": [
    "def clean_str(string):\n",
    "    string = re.sub(r'[^ ㄱㅡl가-힣]+',\"\",string)\n",
    "    string = re.sub(r\"[^가-힣A-Za-z0-9(),!?\\'\\`]\", \" \", string)\n",
    "    string = re.sub(r\"\\'s\", \" \\'s\", string)\n",
    "    string = re.sub(r\"\\'ve\", \" \\'ve\", string)\n",
    "    string = re.sub(r\"n\\'t\", \" n\\'t\", string)\n",
    "    string = re.sub(r\"\\'re\", \" \\'re\", string)\n",
    "    string = re.sub(r\"\\'d\", \" \\'d\", string)\n",
    "    string = re.sub(r\"\\'ll\", \" \\'ll\", string)\n",
    "    string = re.sub(r\",\", \" , \", string)\n",
    "    string = re.sub(r\"!\", \" ! \", string)\n",
    "    string = re.sub(r\"\\(\", \" \\( \", string)\n",
    "    string = re.sub(r\"\\)\", \" \\) \", string)\n",
    "    string = re.sub(r\"\\?\", \" \\? \", string)\n",
    "    string = re.sub(r\"\\s{2,}\", \" \", string)\n",
    "    string = re.sub(r\"\\'{2,}\", \"\\'\", string)\n",
    "    string = re.sub(r\"\\'\", \"\", string)\n",
    "  ##string = re.sub(r\"[^가-힣A-Za-z0-9(),!?\\'\\`]\", \" \", string)필요없는 데이터를 빼고 지운다\n",
    "  ##string = re.sub(r\"[^가-힣A-Za-z0-9(),!?\\'\\`]\", \" \", string)\n",
    "    return string.lower()"
   ]
  },
  {
   "cell_type": "code",
   "execution_count": 106,
   "id": "07d19be5",
   "metadata": {},
   "outputs": [],
   "source": [
    "train_text_X = [row.split('\\t')[1] for row in train_text.split('\\n')[1:] if row.count('\\t') > 0]\n",
    "train_text_X = [clean_str(sentence) for sentence in train_text_X ]"
   ]
  },
  {
   "cell_type": "code",
   "execution_count": 107,
   "id": "4af366ac",
   "metadata": {},
   "outputs": [
    {
     "name": "stdout",
     "output_type": "stream",
     "text": [
      "['아', '더빙', '진짜', '짜증나네요', '목소리']\n",
      "['흠포스터보고', '초딩영화줄오버연기조차', '가볍지', '않구나']\n",
      "['너무재밓었다그래서보는것을추천한다']\n",
      "['교도소', '이야기구먼', '솔직히', '재미는', '없다평점', '조정']\n",
      "['사이몬페그의', '익살스런', '연기가', '돋보였던', '영화스파이더맨에서', '늙어보이기만', '했던', '커스틴', '던스트가', '너무나도', '이뻐보였다']\n",
      "['막', '걸음마', '뗀', '세부터', '초등학교', '학년생인', '살용영화별반개도', '아까움']\n",
      "['원작의', '긴장감을', '제대로', '살려내지못했다']\n",
      "['별', '반개도', '아깝다', '욕나온다', '이응경', '길용우', '연기생활이몇년인지정말', '발로해도', '그것보단', '낫겟다', '납치감금만반복반복이드라마는', '가족도없다', '연기못하는사람만모엿네']\n",
      "['액션이', '없는데도', '재미', '있는', '몇안되는', '영화']\n",
      "['왜케', '평점이', '낮은건데', '꽤', '볼만한데', '헐리우드식', '화려함에만', '너무', '길들여져', '있나']\n"
     ]
    }
   ],
   "source": [
    "sentences = [sentence.split(' ') for sentence in train_text_X]\n",
    "for i in range(10):\n",
    "  print(sentences[i])"
   ]
  },
  {
   "cell_type": "code",
   "execution_count": null,
   "id": "eff014e8",
   "metadata": {},
   "outputs": [],
   "source": []
  }
 ],
 "metadata": {
  "kernelspec": {
   "display_name": "Python 3 (ipykernel)",
   "language": "python",
   "name": "python3"
  },
  "language_info": {
   "codemirror_mode": {
    "name": "ipython",
    "version": 3
   },
   "file_extension": ".py",
   "mimetype": "text/x-python",
   "name": "python",
   "nbconvert_exporter": "python",
   "pygments_lexer": "ipython3",
   "version": "3.11.5"
  }
 },
 "nbformat": 4,
 "nbformat_minor": 5
}
