{
 "cells": [
  {
   "cell_type": "code",
   "execution_count": 1,
   "id": "8be79c0b",
   "metadata": {},
   "outputs": [
    {
     "name": "stdout",
     "output_type": "stream",
     "text": [
      "WARNING:tensorflow:From C:\\Users\\kimtp\\anaconda3\\Lib\\site-packages\\keras\\src\\losses.py:2976: The name tf.losses.sparse_softmax_cross_entropy is deprecated. Please use tf.compat.v1.losses.sparse_softmax_cross_entropy instead.\n",
      "\n"
     ]
    }
   ],
   "source": [
    "import tensorflow as tf\n",
    "from tensorflow import keras\n",
    "path_to_train_file = tf.keras.utils.get_file('train.txt', 'https://raw.githubusercontent.com/e9t/nsmc/master/ratings_train.txt')\n",
    "path_to_test_file = tf.keras.utils.get_file('test.txt', 'https://raw.githubusercontent.com/e9t/nsmc/master/ratings_test.txt')"
   ]
  },
  {
   "cell_type": "code",
   "execution_count": 2,
   "id": "ad1fd714",
   "metadata": {},
   "outputs": [
    {
     "name": "stdout",
     "output_type": "stream",
     "text": [
      "id\tdocument\tlabel\n",
      "9976970\t아 더빙.. 진짜 짜증나네요 목소리\t0\n",
      "3819312\t흠...포스터보고 초딩영화줄....오버연기조차 가볍지 않구나\t1\n",
      "10265843\t너무재밓었다그래서보는것을추천한다\t0\n",
      "9045019\t교도소 이야기구먼 ..솔직히 재미는 없다..평점 조정\t0\n",
      "6483659\t사이몬페그의 익살스런 연기가 돋보였던 영화!스파이더맨에서 늙어보이기만 했던 커스틴 던스트가 너무나도 이뻐보였다\t1\n",
      "5403919\t막 걸음마 뗀 3세부터 초등학교 1학년생인 8살용영화.ㅋㅋㅋ...별반개도 아까움.\t0\n",
      "7797314\t원작의\n"
     ]
    }
   ],
   "source": [
    "train_text = open(path_to_train_file, 'rb').read().decode(encoding='utf-8')\n",
    "test_text = open(path_to_test_file, 'rb').read().decode(encoding='utf-8')\n",
    "print(train_text[0:300])"
   ]
  },
  {
   "cell_type": "code",
   "execution_count": 3,
   "id": "c83494d4",
   "metadata": {},
   "outputs": [],
   "source": [
    "import numpy as np"
   ]
  },
  {
   "cell_type": "code",
   "execution_count": 4,
   "id": "e461b956",
   "metadata": {},
   "outputs": [
    {
     "name": "stdout",
     "output_type": "stream",
     "text": [
      "(150000, 1) (50000, 1)\n",
      "[[0]\n",
      " [1]\n",
      " [0]\n",
      " [0]\n",
      " [1]]\n"
     ]
    }
   ],
   "source": [
    "train_Y = np.array([[int(row.split('\\t')[2])] for row in train_text.split('\\n')[1:] if row.count('\\t') > 0])\n",
    "test_Y = np.array([[int(row.split('\\t')[2])] for row in test_text.split('\\n')[1:] if row.count('\\t') > 0])\n",
    "print(train_Y.shape, test_Y.shape)\n",
    "print(train_Y[:5])"
   ]
  },
  {
   "cell_type": "code",
   "execution_count": 5,
   "id": "bd77151f",
   "metadata": {},
   "outputs": [],
   "source": [
    "import re"
   ]
  },
  {
   "cell_type": "code",
   "execution_count": 6,
   "id": "26cfc48f",
   "metadata": {},
   "outputs": [],
   "source": [
    "def clean_str(string):\n",
    "    string = re.sub(r'[^ ㄱㅡl가-힣]+',\"\",string)\n",
    "    return string.lower()"
   ]
  },
  {
   "cell_type": "code",
   "execution_count": 7,
   "id": "de60baf1",
   "metadata": {},
   "outputs": [],
   "source": [
    "train_text_X = [row.split('\\t')[1] for row in train_text.split('\\n')[1:] if row.count('\\t') > 0]\n",
    "train_text_X = [clean_str(sentence) for sentence in train_text_X ]"
   ]
  },
  {
   "cell_type": "code",
   "execution_count": 8,
   "id": "0ad5fe25",
   "metadata": {},
   "outputs": [
    {
     "name": "stdout",
     "output_type": "stream",
     "text": [
      "['아', '더빙', '진짜', '짜증나네요', '목소리']\n",
      "['흠포스터보고', '초딩영화줄오버연기조차', '가볍지', '않구나']\n",
      "['너무재밓었다그래서보는것을추천한다']\n",
      "['교도소', '이야기구먼', '솔직히', '재미는', '없다평점', '조정']\n",
      "['사이몬페그의', '익살스런', '연기가', '돋보였던', '영화스파이더맨에서', '늙어보이기만', '했던', '커스틴', '던스트가', '너무나도', '이뻐보였다']\n",
      "['막', '걸음마', '뗀', '세부터', '초등학교', '학년생인', '살용영화별반개도', '아까움']\n",
      "['원작의', '긴장감을', '제대로', '살려내지못했다']\n",
      "['별', '반개도', '아깝다', '욕나온다', '이응경', '길용우', '연기생활이몇년인지정말', '발로해도', '그것보단', '낫겟다', '납치감금만반복반복이드라마는', '가족도없다', '연기못하는사람만모엿네']\n",
      "['액션이', '없는데도', '재미', '있는', '몇안되는', '영화']\n",
      "['왜케', '평점이', '낮은건데', '꽤', '볼만한데', '헐리우드식', '화려함에만', '너무', '길들여져', '있나']\n"
     ]
    }
   ],
   "source": [
    "sentences = [sentence.split(' ') for sentence in train_text_X]\n",
    "for i in range(10):\n",
    "  print(sentences[i])"
   ]
  },
  {
   "cell_type": "code",
   "execution_count": 9,
   "id": "7a44329d",
   "metadata": {},
   "outputs": [],
   "source": [
    "sentence_len = [len(sentence) for sentence in sentences]\n",
    "sentence_len.sort()"
   ]
  },
  {
   "cell_type": "code",
   "execution_count": 10,
   "id": "be106274",
   "metadata": {},
   "outputs": [],
   "source": [
    "import matplotlib.pyplot as plt"
   ]
  },
  {
   "cell_type": "code",
   "execution_count": 11,
   "id": "561a72c4",
   "metadata": {},
   "outputs": [
    {
     "data": {
      "image/png": "[encoded data removed]",
      "text/plain": [
       "<Figure size 640x480 with 1 Axes>"
      ]
     },
     "metadata": {},
     "output_type": "display_data"
    }
   ],
   "source": [
    "plt.plot(sentence_len)\n",
    "plt.show()"
   ]
  },
  {
   "cell_type": "code",
   "execution_count": 12,
   "id": "699ff743",
   "metadata": {},
   "outputs": [
    {
     "name": "stdout",
     "output_type": "stream",
     "text": [
      "144646\n"
     ]
    }
   ],
   "source": [
    "print(sum([int(i <= 25) for i in sentence_len]))"
   ]
  },
  {
   "cell_type": "code",
   "execution_count": 13,
   "id": "714b6d5b",
   "metadata": {},
   "outputs": [],
   "source": [
    "sentence_new = []\n",
    "for sentence in sentences:\n",
    "  sentence_new.append([word[:5] for word in sentence][:25])\n",
    "sentences = sentence_new"
   ]
  },
  {
   "cell_type": "code",
   "execution_count": 14,
   "id": "335165fd",
   "metadata": {},
   "outputs": [
    {
     "name": "stdout",
     "output_type": "stream",
     "text": [
      "['아', '더빙', '진짜', '짜증나네요', '목소리']\n",
      "['흠포스터보', '초딩영화줄', '가볍지', '않구나']\n",
      "['너무재밓었']\n",
      "['교도소', '이야기구먼', '솔직히', '재미는', '없다평점', '조정']\n",
      "['사이몬페그', '익살스런', '연기가', '돋보였던', '영화스파이', '늙어보이기', '했던', '커스틴', '던스트가', '너무나도', '이뻐보였다']\n"
     ]
    }
   ],
   "source": [
    "for i in range(5):\n",
    "  print(sentences[i])"
   ]
  },
  {
   "cell_type": "code",
   "execution_count": 15,
   "id": "f37b76e2",
   "metadata": {},
   "outputs": [
    {
     "name": "stdout",
     "output_type": "stream",
     "text": [
      "[[  36  899    5 6670 1055    0    0    0    0    0    0    0    0    0\n",
      "     0    0    0    0    0    0    0    0    0    0    0]\n",
      " [6671    0    0    0    0    0    0    0    0    0    0    0    0    0\n",
      "     0    0    0    0    0    0    0    0    0    0    0]\n",
      " [   0    0    0    0    0    0    0    0    0    0    0    0    0    0\n",
      "     0    0    0    0    0    0    0    0    0    0    0]\n",
      " [  67  355 9869    0    0    0    0    0    0    0    0    0    0    0\n",
      "     0    0    0    0    0    0    0    0    0    0    0]\n",
      " [  99 5009  843  551    0    0    0    0    0    0    0    0    0    0\n",
      "     0    0    0    0    0    0    0    0    0    0    0]]\n"
     ]
    }
   ],
   "source": [
    "from tensorflow.keras.preprocessing.text import Tokenizer\n",
    "from tensorflow.keras.preprocessing.sequence import pad_sequences\n",
    "\n",
    "tokenizer = Tokenizer(num_words = 20000)\n",
    "tokenizer.fit_on_texts(sentences)\n",
    "train_X = tokenizer.texts_to_sequences(sentences)\n",
    "train_X = pad_sequences(train_X, padding='post')\n",
    "print(train_X[:5])"
   ]
  },
  {
   "cell_type": "code",
   "execution_count": 16,
   "id": "daaf4ee8",
   "metadata": {},
   "outputs": [
    {
     "name": "stdout",
     "output_type": "stream",
     "text": [
      "WARNING:tensorflow:From C:\\Users\\kimtp\\anaconda3\\Lib\\site-packages\\keras\\src\\backend.py:873: The name tf.get_default_graph is deprecated. Please use tf.compat.v1.get_default_graph instead.\n",
      "\n"
     ]
    }
   ],
   "source": [
    "model = keras.Sequential([\n",
    "    keras.layers.Embedding(20000, 300, input_length=25),\n",
    "    keras.layers.LSTM(units=50, dropout=0.3),\n",
    "    keras.layers.Dense(2, activation='softmax')\n",
    "])"
   ]
  },
  {
   "cell_type": "code",
   "execution_count": 17,
   "id": "32f89007",
   "metadata": {},
   "outputs": [
    {
     "name": "stdout",
     "output_type": "stream",
     "text": [
      "Model: \"sequential\"\n",
      "_________________________________________________________________\n",
      " Layer (type)                Output Shape              Param #   \n",
      "=================================================================\n",
      " embedding (Embedding)       (None, 25, 300)           6000000   \n",
      "                                                                 \n",
      " lstm (LSTM)                 (None, 50)                70200     \n",
      "                                                                 \n",
      " dense (Dense)               (None, 2)                 102       \n",
      "                                                                 \n",
      "=================================================================\n",
      "Total params: 6070302 (23.16 MB)\n",
      "Trainable params: 6070302 (23.16 MB)\n",
      "Non-trainable params: 0 (0.00 Byte)\n",
      "_________________________________________________________________\n"
     ]
    }
   ],
   "source": [
    "model.summary()"
   ]
  },
  {
   "cell_type": "code",
   "execution_count": 18,
   "id": "d3cb2d3f",
   "metadata": {},
   "outputs": [
    {
     "name": "stdout",
     "output_type": "stream",
     "text": [
      "WARNING:tensorflow:From C:\\Users\\kimtp\\anaconda3\\Lib\\site-packages\\keras\\src\\optimizers\\__init__.py:309: The name tf.train.Optimizer is deprecated. Please use tf.compat.v1.train.Optimizer instead.\n",
      "\n"
     ]
    }
   ],
   "source": [
    "model.compile(optimizer='adam', loss='sparse_categorical_crossentropy', metrics=['accuracy'])"
   ]
  },
  {
   "cell_type": "code",
   "execution_count": 19,
   "id": "49c903fc",
   "metadata": {},
   "outputs": [
    {
     "name": "stdout",
     "output_type": "stream",
     "text": [
      "Epoch 1/5\n",
      "WARNING:tensorflow:From C:\\Users\\kimtp\\anaconda3\\Lib\\site-packages\\keras\\src\\utils\\tf_utils.py:492: The name tf.ragged.RaggedTensorValue is deprecated. Please use tf.compat.v1.ragged.RaggedTensorValue instead.\n",
      "\n",
      "WARNING:tensorflow:From C:\\Users\\kimtp\\anaconda3\\Lib\\site-packages\\keras\\src\\engine\\base_layer_utils.py:384: The name tf.executing_eagerly_outside_functions is deprecated. Please use tf.compat.v1.executing_eagerly_outside_functions instead.\n",
      "\n",
      "1172/1172 [==============================] - 54s 44ms/step - loss: 0.4443 - accuracy: 0.7732\n",
      "Epoch 2/5\n",
      "1172/1172 [==============================] - 49s 42ms/step - loss: 0.3503 - accuracy: 0.8287\n",
      "Epoch 3/5\n",
      "1172/1172 [==============================] - 50s 42ms/step - loss: 0.3089 - accuracy: 0.8462\n",
      "Epoch 4/5\n",
      "1172/1172 [==============================] - 52s 44ms/step - loss: 0.2737 - accuracy: 0.8621\n",
      "Epoch 5/5\n",
      "1172/1172 [==============================] - 51s 44ms/step - loss: 0.2452 - accuracy: 0.8758\n"
     ]
    }
   ],
   "source": [
    "history = model.fit(train_X, train_Y, batch_size=128, epochs=5)"
   ]
  },
  {
   "cell_type": "code",
   "execution_count": 20,
   "id": "b604c98f",
   "metadata": {},
   "outputs": [
    {
     "data": {
      "text/plain": [
       "[0.49540969729423523, 0.7928000092506409]"
      ]
     },
     "execution_count": 20,
     "metadata": {},
     "output_type": "execute_result"
    }
   ],
   "source": [
    "test_text_X = [row.split('\\t')[1] for row in test_text.split('\\n')[1:] if row.count('\\t') > 0]\n",
    "test_text_X = [clean_str(sentence) for sentence in test_text_X ]\n",
    "\n",
    "sentences = [sentence.split(' ') for sentence in test_text_X]\n",
    "\n",
    "sentence_new = []\n",
    "for sentence in sentences:\n",
    "  sentence_new.append([word[:5] for word in sentence][:25])\n",
    "sentences = sentence_new\n",
    "\n",
    "test_X = tokenizer.texts_to_sequences(sentences)\n",
    "test_X = pad_sequences(test_X, padding='post')\n",
    "model.evaluate(test_X, test_Y, verbose=0)"
   ]
  },
  {
   "cell_type": "code",
   "execution_count": 21,
   "id": "f511b106",
   "metadata": {},
   "outputs": [
    {
     "name": "stdout",
     "output_type": "stream",
     "text": [
      "당신의 감정을 입력 : 재미도 좋고\n",
      "1/1 [==============================] - 0s 313ms/step\n",
      "['재미도']\n",
      "[array([0.7025182 , 0.29748175], dtype=float32)]\n",
      "['재미도', '좋고']\n",
      "[array([0.00314084, 0.9968592 ], dtype=float32)]\n"
     ]
    }
   ],
   "source": [
    "test_sentence = input(\"당신의 감정을 입력 : \")\n",
    "test_sentence = test_sentence.split(' ')\n",
    "test_sentences= []\n",
    "now_sentence = []\n",
    "\n",
    "for word in test_sentence:\n",
    "  now_sentence.append(word)\n",
    "  test_sentences.append(now_sentence[:])\n",
    "\n",
    "test_X_1 = tokenizer.texts_to_sequences(test_sentences)\n",
    "test_X_1 = pad_sequences(test_X_1, padding='post', maxlen=25)\n",
    "pred = model.predict(test_X_1)\n",
    "for idx, sentence in enumerate(test_sentences):\n",
    "  print(sentence)\n",
    "  print([pred[idx]])\n",
    "\n"
   ]
  },
  {
   "cell_type": "code",
   "execution_count": null,
   "id": "26e51f0b",
   "metadata": {},
   "outputs": [],
   "source": []
  }
 ],
 "metadata": {
  "kernelspec": {
   "display_name": "Python 3 (ipykernel)",
   "language": "python",
   "name": "python3"
  },
  "language_info": {
   "codemirror_mode": {
    "name": "ipython",
    "version": 3
   },
   "file_extension": ".py",
   "mimetype": "text/x-python",
   "name": "python",
   "nbconvert_exporter": "python",
   "pygments_lexer": "ipython3",
   "version": "3.11.5"
  }
 },
 "nbformat": 4,
 "nbformat_minor": 5
}
