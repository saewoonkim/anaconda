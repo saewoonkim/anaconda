{
 "cells": [
  {
   "cell_type": "code",
   "execution_count": 22,
   "id": "ebe5c76b",
   "metadata": {},
   "outputs": [],
   "source": [
    "import tensorflow as tf\n",
    "from tensorflow import keras\n",
    "import numpy as np\n",
    "import matplotlib.pyplot as plt"
   ]
  },
  {
   "cell_type": "code",
   "execution_count": 23,
   "id": "55c8b504",
   "metadata": {},
   "outputs": [],
   "source": [
    "from sklearn.model_selection import train_test_split"
   ]
  },
  {
   "cell_type": "code",
   "execution_count": 24,
   "id": "5c6257c5",
   "metadata": {},
   "outputs": [],
   "source": [
    "(train_input, train_target), (test_input, test_target) =\\\n",
    "keras.datasets.fashion_mnist.load_data()"
   ]
  },
  {
   "cell_type": "code",
   "execution_count": 25,
   "id": "7b66d4b5",
   "metadata": {},
   "outputs": [],
   "source": [
    "train_scaled = train_input.reshape(-1, 28,28,1) / 255.0\n",
    "train_scaled, val_scaled, train_target, val_target = train_test_split(\n",
    "    train_scaled, train_target, test_size=0.2, random_state=42\n",
    ")"
   ]
  },
  {
   "cell_type": "code",
   "execution_count": 26,
   "id": "0b499ba5",
   "metadata": {},
   "outputs": [
    {
     "data": {
      "text/plain": [
       "(48000, 28, 28, 1)"
      ]
     },
     "execution_count": 26,
     "metadata": {},
     "output_type": "execute_result"
    }
   ],
   "source": [
    "train_scaled.shape"
   ]
  },
  {
   "cell_type": "code",
   "execution_count": 27,
   "id": "fdef39f2",
   "metadata": {},
   "outputs": [
    {
     "data": {
      "text/plain": [
       "(12000, 28, 28, 1)"
      ]
     },
     "execution_count": 27,
     "metadata": {},
     "output_type": "execute_result"
    }
   ],
   "source": [
    "val_scaled.shape"
   ]
  },
  {
   "cell_type": "code",
   "execution_count": 28,
   "id": "11f337bd",
   "metadata": {},
   "outputs": [],
   "source": [
    "model = keras.Sequential()#안에 선택해서 넣을수있다.\n",
    "#신경망 객체\n",
    "model.add(keras.layers.Conv2D(32, kernel_size=(3,3), activation='relu',\n",
    "          padding='same', input_shape=(28,28,1)))\n",
    "#kernel sizre도장의 크기 (필터개수) \n",
    "#padding 가장자리족 도장을 더 여러게 찍을수있도록\n",
    "#input shape 3차원 배열이라는 뜻이 3개"
   ]
  },
  {
   "cell_type": "code",
   "execution_count": 29,
   "id": "da47039a",
   "metadata": {},
   "outputs": [],
   "source": [
    "model.add(keras.layers.MaxPool2D(2,2))"
   ]
  },
  {
   "cell_type": "code",
   "execution_count": 30,
   "id": "c2477b40",
   "metadata": {},
   "outputs": [],
   "source": [
    "model.add(keras.layers.Conv2D(64, kernel_size=(3,3), activation='relu',\n",
    "          padding='same'))\n",
    "model.add(keras.layers.MaxPool2D(2,2))"
   ]
  },
  {
   "cell_type": "code",
   "execution_count": 31,
   "id": "41f808f8",
   "metadata": {},
   "outputs": [],
   "source": [
    "model.add(keras.layers.Flatten())\n",
    "model.add(keras.layers.Dense(100, activation='relu'))\n",
    "model.add(keras.layers.Dropout(0.4))\n",
    "model.add(keras.layers.Dense(10, activation='softmax'))"
   ]
  },
  {
   "cell_type": "code",
   "execution_count": 32,
   "id": "ae9ef275",
   "metadata": {},
   "outputs": [
    {
     "name": "stdout",
     "output_type": "stream",
     "text": [
      "Model: \"sequential_1\"\n",
      "_________________________________________________________________\n",
      " Layer (type)                Output Shape              Param #   \n",
      "=================================================================\n",
      " conv2d_2 (Conv2D)           (None, 28, 28, 32)        320       \n",
      "                                                                 \n",
      " max_pooling2d_2 (MaxPoolin  (None, 14, 14, 32)        0         \n",
      " g2D)                                                            \n",
      "                                                                 \n",
      " conv2d_3 (Conv2D)           (None, 14, 14, 64)        18496     \n",
      "                                                                 \n",
      " max_pooling2d_3 (MaxPoolin  (None, 7, 7, 64)          0         \n",
      " g2D)                                                            \n",
      "                                                                 \n",
      " flatten_1 (Flatten)         (None, 3136)              0         \n",
      "                                                                 \n",
      " dense_2 (Dense)             (None, 100)               313700    \n",
      "                                                                 \n",
      " dropout_1 (Dropout)         (None, 100)               0         \n",
      "                                                                 \n",
      " dense_3 (Dense)             (None, 10)                1010      \n",
      "                                                                 \n",
      "=================================================================\n",
      "Total params: 333526 (1.27 MB)\n",
      "Trainable params: 333526 (1.27 MB)\n",
      "Non-trainable params: 0 (0.00 Byte)\n",
      "_________________________________________________________________\n"
     ]
    }
   ],
   "source": [
    "model.summary()"
   ]
  },
  {
   "cell_type": "code",
   "execution_count": 33,
   "id": "e270be02",
   "metadata": {},
   "outputs": [
    {
     "data": {
      "image/png": "[encoded data removed]",
      "text/plain": [
       "<IPython.core.display.Image object>"
      ]
     },
     "execution_count": 33,
     "metadata": {},
     "output_type": "execute_result"
    }
   ],
   "source": [
    "keras.utils.plot_model(model)"
   ]
  },
  {
   "cell_type": "code",
   "execution_count": 34,
   "id": "89d2d9c9",
   "metadata": {},
   "outputs": [
    {
     "data": {
      "image/png": "[encoded data removed]",
      "text/plain": [
       "<IPython.core.display.Image object>"
      ]
     },
     "execution_count": 34,
     "metadata": {},
     "output_type": "execute_result"
    }
   ],
   "source": [
    "keras.utils.plot_model(model, show_shapes = True)"
   ]
  },
  {
   "cell_type": "code",
   "execution_count": 35,
   "id": "6420c295",
   "metadata": {},
   "outputs": [],
   "source": [
    "model.compile(optimizer='adam', loss='sparse_categorical_crossentropy', metrics='accuracy')"
   ]
  },
  {
   "cell_type": "code",
   "execution_count": 36,
   "id": "299b9bbf",
   "metadata": {},
   "outputs": [
    {
     "name": "stdout",
     "output_type": "stream",
     "text": [
      "Epoch 1/20\n",
      "1500/1500 [==============================] - 12s 8ms/step - loss: 0.5330 - accuracy: 0.8083 - val_loss: 0.3392 - val_accuracy: 0.8720\n",
      "Epoch 2/20\n",
      "1500/1500 [==============================] - 12s 8ms/step - loss: 0.3567 - accuracy: 0.8713 - val_loss: 0.2825 - val_accuracy: 0.8958\n",
      "Epoch 3/20\n",
      "1500/1500 [==============================] - 11s 7ms/step - loss: 0.3028 - accuracy: 0.8911 - val_loss: 0.2696 - val_accuracy: 0.8981\n",
      "Epoch 4/20\n",
      "1500/1500 [==============================] - 11s 7ms/step - loss: 0.2712 - accuracy: 0.9018 - val_loss: 0.2423 - val_accuracy: 0.9116\n",
      "Epoch 5/20\n",
      "1500/1500 [==============================] - 11s 7ms/step - loss: 0.2457 - accuracy: 0.9102 - val_loss: 0.2391 - val_accuracy: 0.9133\n",
      "Epoch 6/20\n",
      "1500/1500 [==============================] - 11s 7ms/step - loss: 0.2268 - accuracy: 0.9171 - val_loss: 0.2299 - val_accuracy: 0.9168\n",
      "Epoch 7/20\n",
      "1500/1500 [==============================] - 11s 7ms/step - loss: 0.2086 - accuracy: 0.9229 - val_loss: 0.2206 - val_accuracy: 0.9193\n",
      "Epoch 8/20\n",
      "1500/1500 [==============================] - 12s 8ms/step - loss: 0.1949 - accuracy: 0.9281 - val_loss: 0.2224 - val_accuracy: 0.9229\n",
      "Epoch 9/20\n",
      "1500/1500 [==============================] - 12s 8ms/step - loss: 0.1800 - accuracy: 0.9343 - val_loss: 0.2293 - val_accuracy: 0.9197\n"
     ]
    }
   ],
   "source": [
    "checkpoint_cb = keras.callbacks.ModelCheckpoint('best-cnn-model.h5',\n",
    "                                                save_best_only=True)\n",
    "##patience=2, 비교빈도가 2개 동안 떨어지지않으면 정지해라 란는 뜻임 restore_best_weights 매개변수로 복귀해라\n",
    "early_stopping_cb = keras.callbacks.EarlyStopping(patience=2, restore_best_weights=True)\n",
    "history = model.fit(train_scaled, train_target, epochs=20,\n",
    "                    validation_data=(val_scaled, val_target),\n",
    "                    callbacks=[checkpoint_cb, early_stopping_cb])\n",
    "##epochs 잘대처하고있는 회전 20회"
   ]
  },
  {
   "cell_type": "code",
   "execution_count": 37,
   "id": "42657d99",
   "metadata": {},
   "outputs": [
    {
     "data": {
      "image/png": "[encoded data removed]",
      "text/plain": [
       "<Figure size 640x480 with 1 Axes>"
      ]
     },
     "metadata": {},
     "output_type": "display_data"
    }
   ],
   "source": [
    "plt.plot(history.history['loss'])\n",
    "plt.plot(history.history['val_loss'])\n",
    "plt.xlabel('epoch')\n",
    "plt.xlabel('loss')\n",
    "plt.legend(['train','val'])\n",
    "plt.show()\n",
    "#8번 까지 돌면서 종료 시켯다"
   ]
  },
  {
   "cell_type": "code",
   "execution_count": 38,
   "id": "55439a22",
   "metadata": {},
   "outputs": [
    {
     "name": "stdout",
     "output_type": "stream",
     "text": [
      "375/375 [==============================] - 1s 3ms/step - loss: 0.2206 - accuracy: 0.9193\n"
     ]
    },
    {
     "data": {
      "text/plain": [
       "[0.22055265307426453, 0.9193333387374878]"
      ]
     },
     "execution_count": 38,
     "metadata": {},
     "output_type": "execute_result"
    }
   ],
   "source": [
    "model.evaluate(val_scaled, val_target)"
   ]
  },
  {
   "cell_type": "code",
   "execution_count": 39,
   "id": "642e07eb",
   "metadata": {},
   "outputs": [
    {
     "data": {
      "image/png": "[encoded data removed]",
      "text/plain": [
       "<Figure size 640x480 with 1 Axes>"
      ]
     },
     "metadata": {},
     "output_type": "display_data"
    }
   ],
   "source": [
    "plt.imshow(val_scaled[0].reshape(28,28), cmap='gray_r')\n",
    "plt.show()"
   ]
  },
  {
   "cell_type": "code",
   "execution_count": 40,
   "id": "5c45fd84",
   "metadata": {},
   "outputs": [
    {
     "name": "stdout",
     "output_type": "stream",
     "text": [
      "1/1 [==============================] - 0s 61ms/step\n"
     ]
    }
   ],
   "source": [
    "preds = model.predict(val_scaled[0:1])"
   ]
  },
  {
   "cell_type": "code",
   "execution_count": 41,
   "id": "27e8782a",
   "metadata": {},
   "outputs": [
    {
     "name": "stdout",
     "output_type": "stream",
     "text": [
      "[[8.5158183e-16 2.0369165e-23 2.3242126e-20 9.3299852e-17 9.4120936e-18\n",
      "  7.1045891e-19 5.9929487e-17 3.7268867e-18 1.0000000e+00 6.5936647e-21]]\n"
     ]
    }
   ],
   "source": [
    "print(preds)"
   ]
  },
  {
   "cell_type": "code",
   "execution_count": 42,
   "id": "816fcb47",
   "metadata": {},
   "outputs": [
    {
     "data": {
      "image/png": "[encoded data removed]",
      "text/plain": [
       "<Figure size 640x480 with 1 Axes>"
      ]
     },
     "metadata": {},
     "output_type": "display_data"
    }
   ],
   "source": [
    "plt.bar(range(1,11), preds[0])\n",
    "plt.xlabel('class')\n",
    "plt.ylabel('pro(%)')\n",
    "plt.show()"
   ]
  },
  {
   "cell_type": "code",
   "execution_count": 43,
   "id": "29432b58",
   "metadata": {},
   "outputs": [],
   "source": [
    "classes = ['T-shirst/top', 'Trouser','Pullover','Dress','Coat',\n",
    "              'Sandal','Shirst','Sneakers','Bag','Ankle Boots']"
   ]
  },
  {
   "cell_type": "code",
   "execution_count": 44,
   "id": "8da1f3f5",
   "metadata": {},
   "outputs": [
    {
     "name": "stdout",
     "output_type": "stream",
     "text": [
      "Bag\n"
     ]
    }
   ],
   "source": [
    "print(classes[np.argmax(preds)])"
   ]
  },
  {
   "cell_type": "code",
   "execution_count": 45,
   "id": "e22b1301",
   "metadata": {},
   "outputs": [],
   "source": [
    "from tensorflow.keras.datasets import imdb"
   ]
  },
  {
   "cell_type": "code",
   "execution_count": 46,
   "id": "4d9f05c9",
   "metadata": {},
   "outputs": [
    {
     "name": "stdout",
     "output_type": "stream",
     "text": [
      "Downloading data from https://storage.googleapis.com/tensorflow/tf-keras-datasets/imdb.npz\n",
      "17464789/17464789 [==============================] - 2s 0us/step\n"
     ]
    }
   ],
   "source": [
    "(train_input, train_target), (test_input, test_target) = imdb.load_data(num_words=500)"
   ]
  },
  {
   "cell_type": "code",
   "execution_count": 47,
   "id": "ca60a25e",
   "metadata": {},
   "outputs": [
    {
     "name": "stdout",
     "output_type": "stream",
     "text": [
      "(25000,) (25000,)\n"
     ]
    }
   ],
   "source": [
    "print(train_input.shape, test_input.shape)"
   ]
  },
  {
   "cell_type": "code",
   "execution_count": 48,
   "id": "a5b4ea22",
   "metadata": {},
   "outputs": [
    {
     "data": {
      "text/plain": [
       "array([list([1, 14, 22, 16, 43, 2, 2, 2, 2, 65, 458, 2, 66, 2, 4, 173, 36, 256, 5, 25, 100, 43, 2, 112, 50, 2, 2, 9, 35, 480, 284, 5, 150, 4, 172, 112, 167, 2, 336, 385, 39, 4, 172, 2, 2, 17, 2, 38, 13, 447, 4, 192, 50, 16, 6, 147, 2, 19, 14, 22, 4, 2, 2, 469, 4, 22, 71, 87, 12, 16, 43, 2, 38, 76, 15, 13, 2, 4, 22, 17, 2, 17, 12, 16, 2, 18, 2, 5, 62, 386, 12, 8, 316, 8, 106, 5, 4, 2, 2, 16, 480, 66, 2, 33, 4, 130, 12, 16, 38, 2, 5, 25, 124, 51, 36, 135, 48, 25, 2, 33, 6, 22, 12, 215, 28, 77, 52, 5, 14, 407, 16, 82, 2, 8, 4, 107, 117, 2, 15, 256, 4, 2, 7, 2, 5, 2, 36, 71, 43, 2, 476, 26, 400, 317, 46, 7, 4, 2, 2, 13, 104, 88, 4, 381, 15, 297, 98, 32, 2, 56, 26, 141, 6, 194, 2, 18, 4, 226, 22, 21, 134, 476, 26, 480, 5, 144, 30, 2, 18, 51, 36, 28, 224, 92, 25, 104, 4, 226, 65, 16, 38, 2, 88, 12, 16, 283, 5, 16, 2, 113, 103, 32, 15, 16, 2, 19, 178, 32]),\n",
       "       list([1, 194, 2, 194, 2, 78, 228, 5, 6, 2, 2, 2, 134, 26, 4, 2, 8, 118, 2, 14, 394, 20, 13, 119, 2, 189, 102, 5, 207, 110, 2, 21, 14, 69, 188, 8, 30, 23, 7, 4, 249, 126, 93, 4, 114, 9, 2, 2, 5, 2, 4, 116, 9, 35, 2, 4, 229, 9, 340, 2, 4, 118, 9, 4, 130, 2, 19, 4, 2, 5, 89, 29, 2, 46, 37, 4, 455, 9, 45, 43, 38, 2, 2, 398, 4, 2, 26, 2, 5, 163, 11, 2, 2, 4, 2, 9, 194, 2, 7, 2, 2, 349, 2, 148, 2, 2, 2, 15, 123, 125, 68, 2, 2, 15, 349, 165, 2, 98, 5, 4, 228, 9, 43, 2, 2, 15, 299, 120, 5, 120, 174, 11, 220, 175, 136, 50, 9, 2, 228, 2, 5, 2, 2, 245, 2, 5, 4, 2, 131, 152, 491, 18, 2, 32, 2, 2, 14, 9, 6, 371, 78, 22, 2, 64, 2, 9, 8, 168, 145, 23, 4, 2, 15, 16, 4, 2, 5, 28, 6, 52, 154, 462, 33, 89, 78, 285, 16, 145, 95]),\n",
       "       list([1, 14, 47, 8, 30, 31, 7, 4, 249, 108, 7, 4, 2, 54, 61, 369, 13, 71, 149, 14, 22, 112, 4, 2, 311, 12, 16, 2, 33, 75, 43, 2, 296, 4, 86, 320, 35, 2, 19, 263, 2, 2, 4, 2, 33, 89, 78, 12, 66, 16, 4, 360, 7, 4, 58, 316, 334, 11, 4, 2, 43, 2, 2, 8, 257, 85, 2, 42, 2, 2, 83, 68, 2, 15, 36, 165, 2, 278, 36, 69, 2, 2, 8, 106, 14, 2, 2, 18, 6, 22, 12, 215, 28, 2, 40, 6, 87, 326, 23, 2, 21, 23, 22, 12, 272, 40, 57, 31, 11, 4, 22, 47, 6, 2, 51, 9, 170, 23, 2, 116, 2, 2, 13, 191, 79, 2, 89, 2, 14, 9, 8, 106, 2, 2, 35, 2, 6, 227, 7, 129, 113]),\n",
       "       list([1, 4, 2, 2, 33, 2, 4, 2, 432, 111, 153, 103, 4, 2, 13, 70, 131, 67, 11, 61, 2, 2, 35, 2, 2, 61, 2, 452, 2, 4, 2, 7, 2, 59, 166, 4, 105, 216, 2, 41, 2, 9, 15, 7, 35, 2, 2, 31, 8, 4, 2, 23, 4, 2, 2, 6, 2, 42, 38, 39, 121, 59, 456, 10, 10, 7, 265, 12, 2, 111, 153, 159, 59, 16, 2, 21, 25, 2, 482, 39, 4, 96, 59, 2, 12, 4, 172, 65, 9, 2, 11, 2, 4, 2, 5, 2, 7, 2, 17, 13, 2, 12, 19, 6, 464, 31, 314, 11, 2, 6, 2, 2, 11, 8, 202, 27, 310, 4, 2, 2, 8, 2, 58, 10, 10, 2, 2, 180, 40, 14, 413, 173, 7, 263, 112, 37, 152, 377, 4, 2, 263, 2, 2, 178, 54, 75, 71, 476, 36, 413, 263, 2, 182, 5, 17, 75, 2, 2, 36, 279, 131, 2, 17, 2, 42, 17, 35, 2, 2, 192, 5, 2, 2, 19, 2, 217, 2, 2, 2, 2, 2, 5, 2, 10, 10, 61, 403, 9, 2, 40, 61, 2, 5, 27, 2, 159, 90, 263, 2, 2, 309, 8, 178, 5, 82, 2, 4, 65, 15, 2, 145, 143, 2, 12, 2, 2, 2, 2, 2, 15, 2, 4, 2, 2, 7, 2, 94, 2, 2, 2, 11, 2, 4, 2, 7, 2, 246, 2, 9, 2, 11, 2, 14, 9, 51, 408, 12, 94, 318, 2, 12, 47, 6, 2, 2, 5, 2, 2, 19, 49, 7, 4, 2, 2, 2, 25, 80, 126, 2, 10, 10, 2, 2, 2, 27, 2, 11, 2, 2, 159, 27, 341, 29, 2, 19, 2, 173, 7, 90, 2, 8, 30, 11, 4, 2, 86, 2, 8, 2, 46, 11, 2, 21, 29, 9, 2, 23, 4, 2, 2, 2, 6, 2, 2, 2, 10, 10, 246, 50, 9, 6, 2, 2, 2, 90, 29, 2, 8, 124, 4, 2, 4, 2, 496, 27, 2, 2, 2, 121, 127, 2, 130, 5, 29, 494, 8, 124, 4, 2, 496, 4, 341, 7, 27, 2, 10, 10, 29, 9, 2, 8, 97, 6, 236, 2, 2, 8, 4, 2, 7, 31, 7, 2, 91, 2, 2, 70, 4, 2, 30, 2, 42, 9, 12, 32, 11, 2, 10, 10, 11, 14, 65, 44, 2, 75, 2, 2, 2, 2, 2, 4, 2, 7, 154, 5, 4, 2, 53, 2, 2, 7, 2, 2, 11, 399, 38, 75, 257, 2, 19, 2, 17, 29, 456, 4, 65, 7, 27, 205, 113, 10, 10, 2, 4, 2, 2, 9, 242, 4, 91, 2, 2, 5, 2, 307, 22, 7, 2, 126, 93, 40, 2, 13, 188, 2, 2, 19, 4, 2, 7, 2, 2, 23, 53, 2, 21, 82, 40, 2, 13, 2, 14, 280, 13, 219, 4, 2, 431, 2, 2, 4, 2, 2, 2, 7, 2, 5, 94, 40, 25, 238, 60, 2, 4, 2, 2, 2, 7, 4, 2, 132, 8, 67, 6, 22, 15, 9, 283, 8, 2, 14, 31, 9, 242, 2, 48, 25, 279, 2, 23, 12, 2, 195, 25, 238, 60, 2, 2, 4, 2, 7, 2, 5, 4, 2, 154, 2, 7, 2, 50, 26, 49, 2, 15, 2, 30, 2, 21, 64, 2]),\n",
       "       list([1, 249, 2, 7, 61, 113, 10, 10, 13, 2, 14, 20, 56, 33, 2, 18, 457, 88, 13, 2, 2, 45, 2, 13, 70, 79, 49, 2, 2, 13, 16, 355, 340, 355, 2, 96, 143, 4, 22, 32, 289, 7, 61, 369, 71, 2, 5, 13, 16, 131, 2, 249, 114, 249, 229, 249, 20, 13, 28, 126, 110, 13, 473, 8, 2, 61, 419, 56, 429, 6, 2, 18, 35, 2, 95, 474, 2, 5, 25, 124, 138, 88, 12, 421, 2, 52, 2, 2, 61, 419, 11, 13, 2, 15, 2, 20, 11, 4, 2, 5, 296, 12, 2, 5, 15, 421, 128, 74, 233, 334, 207, 126, 224, 12, 2, 298, 2, 2, 7, 2, 5, 2, 2, 43, 8, 79, 120, 15, 2, 13, 2, 25, 2, 18, 165, 170, 143, 19, 14, 5, 2, 6, 226, 251, 7, 61, 113]),\n",
       "       list([1, 2, 128, 74, 12, 2, 163, 15, 4, 2, 2, 2, 2, 32, 85, 156, 45, 40, 148, 139, 121, 2, 2, 10, 10, 2, 173, 4, 2, 2, 16, 2, 8, 4, 226, 65, 12, 43, 127, 24, 2, 10, 10]),\n",
       "       list([1, 2, 365, 2, 5, 2, 354, 11, 14, 2, 2, 7, 2, 2, 2, 356, 44, 4, 2, 2, 2, 5, 200, 4, 2, 11, 2, 2, 2, 2, 2, 5, 2, 26, 6, 2, 2, 17, 369, 37, 215, 2, 143, 2, 5, 2, 8, 2, 15, 36, 119, 257, 85, 52, 486, 9, 6, 2, 2, 63, 271, 6, 196, 96, 2, 2, 4, 2, 7, 4, 2, 2, 2, 63, 47, 77, 2, 180, 6, 227, 11, 94, 2, 2, 13, 423, 4, 168, 7, 4, 22, 5, 89, 2, 71, 270, 56, 5, 13, 197, 12, 161, 2, 99, 76, 23, 2, 7, 419, 2, 40, 91, 85, 108, 7, 4, 2, 5, 2, 81, 55, 52, 2]),\n",
       "       list([1, 4, 2, 2, 4, 65, 7, 4, 2, 2, 2, 2, 2, 2, 2, 2, 2, 2, 2, 2, 2, 2, 4, 2, 2, 2, 37, 9, 150, 4, 2, 2, 11, 2, 4, 2, 2, 313, 6, 176, 2, 9, 2, 138, 9, 2, 19, 4, 96, 183, 26, 4, 192, 15, 27, 2, 2, 2, 2, 2, 84, 11, 4, 2, 152, 339, 2, 42, 2, 2, 2, 345, 2, 2, 142, 43, 218, 208, 54, 29, 2, 2, 46, 4, 2, 183, 80, 115, 30, 4, 172, 174, 10, 10, 2, 398, 2, 2, 2, 34, 2, 2, 2, 2, 17, 4, 2, 2, 2, 64, 85, 22, 2, 2, 38, 230, 9, 4, 2, 2, 251, 2, 2, 195, 301, 14, 16, 31, 7, 4, 2, 8, 2, 2, 33, 4, 2, 103, 465, 2, 42, 2, 45, 446, 11, 2, 19, 184, 76, 32, 4, 2, 207, 110, 13, 197, 4, 2, 16, 2, 2, 2, 2, 13, 258, 4, 2, 66, 338, 55, 2, 4, 2, 2, 65, 2, 8, 2, 61, 2, 42, 2, 61, 2, 120, 45, 2, 6, 320, 2, 99, 196, 2, 2, 2, 4, 225, 4, 373, 2, 33, 4, 130, 63, 69, 72, 2, 46, 2, 225, 14, 66, 194, 2, 2, 56, 8, 2, 2, 6, 2, 155, 11, 4, 2, 2, 45, 2, 2, 8, 30, 6, 117, 430, 19, 6, 2, 9, 15, 66, 424, 8, 2, 178, 9, 15, 66, 424, 8, 2, 178, 9, 15, 66, 142, 15, 9, 424, 8, 28, 178, 2, 44, 12, 17, 4, 130, 2, 2, 9, 6, 2, 267, 185, 430, 4, 118, 2, 277, 15, 4, 2, 100, 216, 56, 19, 4, 357, 114, 2, 367, 45, 115, 93, 2, 121, 4, 2, 79, 32, 68, 278, 39, 8, 2, 162, 2, 237, 2, 7, 98, 306, 8, 157, 2, 2, 11, 6, 2, 13, 2, 15, 2, 76, 42, 138, 36, 2, 77, 2, 159, 150, 4, 229, 497, 8, 2, 11, 175, 251, 453, 19, 2, 189, 12, 43, 127, 6, 394, 292, 7, 2, 4, 107, 8, 4, 2, 15, 2, 2, 9, 2, 42, 2, 6, 66, 78, 22, 15, 13, 244, 2, 8, 135, 233, 52, 44, 10, 10, 466, 112, 398, 2, 34, 4, 2, 2, 2, 2, 225, 57, 2, 133, 225, 6, 227, 7, 2, 2, 6, 171, 139, 7, 2, 2, 56, 11, 6, 2, 21, 164, 25, 426, 81, 33, 344, 2, 19, 6, 2, 7, 2, 2, 6, 2, 4, 22, 9, 2, 2, 237, 45, 188, 6, 55, 2, 2, 2, 2, 225, 2, 2, 42, 2, 225, 6, 2, 2, 2, 2, 21, 4, 2, 9, 364, 23, 4, 2, 2, 225, 24, 76, 133, 18, 4, 189, 2, 10, 10, 2, 11, 2, 11, 2, 14, 47, 15, 2, 364, 352, 168, 44, 12, 45, 24, 2, 93, 21, 247, 2, 4, 116, 34, 35, 2, 8, 72, 177, 9, 164, 8, 2, 344, 44, 13, 191, 135, 13, 126, 421, 233, 18, 259, 10, 10, 4, 2, 2, 4, 2, 2, 7, 112, 199, 2, 357, 39, 63, 12, 115, 2, 2, 8, 15, 35, 2, 2, 65, 57, 2, 6, 2, 277, 2, 37, 25, 92, 202, 6, 2, 44, 25, 28, 6, 22, 15, 122, 24, 2, 72, 33, 32]),\n",
       "       list([1, 43, 188, 46, 5, 2, 264, 51, 6, 2, 2, 14, 9, 2, 81, 25, 2, 46, 7, 6, 20, 2, 11, 141, 2, 5, 2, 2, 102, 28, 413, 38, 120, 2, 15, 4, 2, 7, 2, 142, 371, 318, 5, 2, 2, 2, 2, 2, 122, 14, 8, 72, 54, 12, 86, 385, 46, 5, 14, 20, 9, 399, 8, 72, 150, 13, 161, 124, 6, 155, 44, 14, 159, 170, 83, 12, 5, 51, 6, 2, 48, 25, 2, 4, 2, 25, 238, 79, 4, 2, 15, 14, 9, 31, 7, 148, 2, 102, 44, 35, 480, 2, 2, 19, 120, 4, 350, 228, 5, 269, 8, 28, 178, 2, 2, 7, 51, 6, 87, 65, 12, 9, 2, 21, 95, 24, 2, 178, 11, 2, 14, 9, 24, 15, 20, 4, 84, 376, 4, 65, 14, 127, 141, 6, 52, 292, 7, 2, 175, 2, 7, 68, 2, 137, 75, 2, 68, 182, 5, 235, 175, 333, 19, 98, 50, 9, 38, 76, 2, 4, 2, 15, 166, 285, 36, 140, 143, 38, 76, 53, 2, 2, 4, 2, 16, 82, 6, 87, 2, 44, 2, 2, 5, 2, 4, 2, 11, 35, 2, 96, 21, 14, 22, 9, 76, 53, 7, 6, 406, 65, 13, 43, 219, 12, 2, 21, 13, 80, 140, 5, 135, 15, 14, 9, 31, 7, 4, 118, 2, 13, 28, 126, 110]),\n",
       "       list([1, 14, 20, 47, 111, 439, 2, 19, 12, 15, 166, 12, 216, 125, 40, 6, 364, 352, 2, 2, 39, 294, 11, 22, 396, 13, 28, 8, 202, 12, 2, 23, 94, 2, 151, 111, 211, 469, 4, 20, 13, 258, 2, 2, 2, 12, 16, 38, 78, 33, 211, 15, 12, 16, 2, 63, 93, 12, 6, 253, 106, 10, 10, 48, 335, 267, 18, 6, 364, 2, 2, 20, 19, 6, 2, 7, 2, 189, 5, 6, 2, 7, 2, 2, 95, 2, 6, 2, 7, 2, 2, 49, 369, 120, 5, 28, 49, 253, 10, 10, 13, 2, 19, 85, 2, 15, 4, 481, 9, 55, 78, 2, 9, 375, 8, 2, 8, 2, 76, 7, 4, 58, 5, 4, 2, 9, 243, 7, 43, 50])],\n",
       "      dtype=object)"
      ]
     },
     "execution_count": 48,
     "metadata": {},
     "output_type": "execute_result"
    }
   ],
   "source": [
    "train_input[0:10]\n",
    "#토큰화(영어를 숫자화) 되어서 나옴 한문단이 댓글한개 "
   ]
  },
  {
   "cell_type": "code",
   "execution_count": 49,
   "id": "72f7671f",
   "metadata": {},
   "outputs": [
    {
     "name": "stdout",
     "output_type": "stream",
     "text": [
      "218\n"
     ]
    }
   ],
   "source": [
    "print(len(train_input[0]))#1번문장의 길이 글자수"
   ]
  },
  {
   "cell_type": "code",
   "execution_count": 50,
   "id": "d495b654",
   "metadata": {},
   "outputs": [
    {
     "name": "stdout",
     "output_type": "stream",
     "text": [
      "189\n"
     ]
    }
   ],
   "source": [
    "print(len(train_input[1]))# 2번문장의 2번째꺼"
   ]
  },
  {
   "cell_type": "code",
   "execution_count": 53,
   "id": "8898896b",
   "metadata": {},
   "outputs": [
    {
     "name": "stdout",
     "output_type": "stream",
     "text": [
      "[0 0 0 0 1 0 0 0 0 0 1 0 0 0 0 0 1 1 0 1]\n"
     ]
    }
   ],
   "source": [
    "print(train_target[:20])#0은부정 1은긍정"
   ]
  },
  {
   "cell_type": "code",
   "execution_count": 51,
   "id": "0ac822fd",
   "metadata": {},
   "outputs": [
    {
     "data": {
      "text/plain": [
       "(25000,)"
      ]
     },
     "execution_count": 51,
     "metadata": {},
     "output_type": "execute_result"
    }
   ],
   "source": [
    "train_target.shape"
   ]
  },
  {
   "cell_type": "code",
   "execution_count": 52,
   "id": "522bd37e",
   "metadata": {},
   "outputs": [],
   "source": [
    "from sklearn.model_selection import train_test_split\n",
    "train_input, val_input, train_target, val_target = train_test_split(\n",
    "    train_input, train_target, test_size=0.2, random_state=42)"
   ]
  },
  {
   "cell_type": "code",
   "execution_count": 54,
   "id": "1f13a3c8",
   "metadata": {},
   "outputs": [
    {
     "data": {
      "text/plain": [
       "(20000,)"
      ]
     },
     "execution_count": 54,
     "metadata": {},
     "output_type": "execute_result"
    }
   ],
   "source": [
    "train_input.shape"
   ]
  },
  {
   "cell_type": "code",
   "execution_count": 55,
   "id": "3ad8891e",
   "metadata": {},
   "outputs": [],
   "source": [
    "lengths = np.array([len(x) for x in train_input])"
   ]
  },
  {
   "cell_type": "code",
   "execution_count": 56,
   "id": "b0a4cb76",
   "metadata": {},
   "outputs": [
    {
     "data": {
      "text/plain": [
       "20000"
      ]
     },
     "execution_count": 56,
     "metadata": {},
     "output_type": "execute_result"
    }
   ],
   "source": [
    "len(lengths)"
   ]
  },
  {
   "cell_type": "code",
   "execution_count": 57,
   "id": "3fa90ebc",
   "metadata": {},
   "outputs": [
    {
     "data": {
      "text/plain": [
       "259"
      ]
     },
     "execution_count": 57,
     "metadata": {},
     "output_type": "execute_result"
    }
   ],
   "source": [
    "lengths[0]"
   ]
  },
  {
   "cell_type": "code",
   "execution_count": 58,
   "id": "920ede67",
   "metadata": {},
   "outputs": [
    {
     "name": "stdout",
     "output_type": "stream",
     "text": [
      "239.00925 178.0\n"
     ]
    }
   ],
   "source": [
    "print(np.mean(lengths), np.median(lengths))"
   ]
  },
  {
   "cell_type": "code",
   "execution_count": 59,
   "id": "f38d644b",
   "metadata": {},
   "outputs": [
    {
     "data": {
      "image/png": "[encoded data removed]",
      "text/plain": [
       "<Figure size 640x480 with 1 Axes>"
      ]
     },
     "metadata": {},
     "output_type": "display_data"
    }
   ],
   "source": [
    "import matplotlib.pyplot as  plt\n",
    "plt.hist(lengths)\n",
    "plt.xlabel('length')\n",
    "plt.ylabel('frequency')\n",
    "plt.show()"
   ]
  },
  {
   "cell_type": "code",
   "execution_count": 60,
   "id": "620f39c0",
   "metadata": {},
   "outputs": [],
   "source": [
    "from tensorflow.keras.preprocessing.sequence import pad_sequences"
   ]
  },
  {
   "cell_type": "code",
   "execution_count": 61,
   "id": "52d4e6ef",
   "metadata": {},
   "outputs": [],
   "source": [
    "train_seq = pad_sequences(train_input, maxlen = 100)"
   ]
  },
  {
   "cell_type": "code",
   "execution_count": 62,
   "id": "3dd8a170",
   "metadata": {},
   "outputs": [
    {
     "name": "stdout",
     "output_type": "stream",
     "text": [
      "(20000, 100)\n"
     ]
    }
   ],
   "source": [
    "print(train_seq.shape)"
   ]
  },
  {
   "cell_type": "code",
   "execution_count": 63,
   "id": "49d5a77d",
   "metadata": {},
   "outputs": [
    {
     "data": {
      "text/plain": [
       "array([  0,   0,   0,   0,   1,   2, 195,  19,  49,   2,   2, 190,   4,\n",
       "         2, 352,   2, 183,  10,  10,  13,  82,  79,   4,   2,  36,  71,\n",
       "       269,   8,   2,  25,  19,  49,   7,   4,   2,   2,   2,   2,   2,\n",
       "        10,  10,  48,  25,  40,   2,  11,   2,   2,  40,   2,   2,   5,\n",
       "         4,   2,   2,  95,  14, 238,  56, 129,   2,  10,  10,  21,   2,\n",
       "        94, 364, 352,   2,   2,  11, 190,  24, 484,   2,   7,  94, 205,\n",
       "       405,  10,  10,  87,   2,  34,  49,   2,   7,   2,   2,   2,   2,\n",
       "         2, 290,   2,  46,  48,  64,  18,   4,   2])"
      ]
     },
     "execution_count": 63,
     "metadata": {},
     "output_type": "execute_result"
    }
   ],
   "source": [
    "train_seq[5]"
   ]
  },
  {
   "cell_type": "code",
   "execution_count": 65,
   "id": "136f2e0d",
   "metadata": {},
   "outputs": [],
   "source": [
    "val_seq = pad_sequences(val_input, maxlen=100)"
   ]
  },
  {
   "cell_type": "code",
   "execution_count": 66,
   "id": "6b99078a",
   "metadata": {},
   "outputs": [],
   "source": [
    "model = keras.Sequential()"
   ]
  },
  {
   "cell_type": "code",
   "execution_count": 67,
   "id": "6d0e2698",
   "metadata": {},
   "outputs": [],
   "source": [
    "model.add(keras.layers.SimpleRNN(8, input_shape=(100, 500)))\n",
    "model.add(keras.layers.Dense(1, activation='sigmoid'))"
   ]
  },
  {
   "cell_type": "code",
   "execution_count": 68,
   "id": "aa2aac65",
   "metadata": {},
   "outputs": [],
   "source": [
    "train_oh = keras.utils.to_categorical(train_seq)"
   ]
  },
  {
   "cell_type": "code",
   "execution_count": 69,
   "id": "1df89415",
   "metadata": {},
   "outputs": [
    {
     "name": "stdout",
     "output_type": "stream",
     "text": [
      "(20000, 100, 500)\n"
     ]
    }
   ],
   "source": [
    "print(train_oh.shape)"
   ]
  },
  {
   "cell_type": "code",
   "execution_count": 70,
   "id": "acc5b061",
   "metadata": {},
   "outputs": [
    {
     "name": "stdout",
     "output_type": "stream",
     "text": [
      "[0. 0. 0. 0. 0. 0. 0. 0. 0. 0. 1. 0.]\n"
     ]
    }
   ],
   "source": [
    "print(train_oh[0][0][:12])"
   ]
  },
  {
   "cell_type": "code",
   "execution_count": 71,
   "id": "db8a1f83",
   "metadata": {},
   "outputs": [],
   "source": [
    "val_oh = keras.utils.to_categorical(val_seq)"
   ]
  },
  {
   "cell_type": "code",
   "execution_count": 72,
   "id": "14f0b8f2",
   "metadata": {},
   "outputs": [
    {
     "name": "stdout",
     "output_type": "stream",
     "text": [
      "Model: \"sequential_2\"\n",
      "_________________________________________________________________\n",
      " Layer (type)                Output Shape              Param #   \n",
      "=================================================================\n",
      " simple_rnn (SimpleRNN)      (None, 8)                 4072      \n",
      "                                                                 \n",
      " dense_4 (Dense)             (None, 1)                 9         \n",
      "                                                                 \n",
      "=================================================================\n",
      "Total params: 4081 (15.94 KB)\n",
      "Trainable params: 4081 (15.94 KB)\n",
      "Non-trainable params: 0 (0.00 Byte)\n",
      "_________________________________________________________________\n"
     ]
    }
   ],
   "source": [
    "model.summary()"
   ]
  },
  {
   "cell_type": "code",
   "execution_count": 73,
   "id": "79e041b2",
   "metadata": {},
   "outputs": [],
   "source": [
    "rmsprop = keras.optimizers.RMSprop(learning_rate=0.0001)"
   ]
  },
  {
   "cell_type": "code",
   "execution_count": 74,
   "id": "a87eddb8",
   "metadata": {},
   "outputs": [],
   "source": [
    "model.compile(optimizer=rmsprop, loss='binary_crossentropy', metrics=['accuracy'])"
   ]
  },
  {
   "cell_type": "code",
   "execution_count": 75,
   "id": "9d0ee2ee",
   "metadata": {},
   "outputs": [
    {
     "name": "stdout",
     "output_type": "stream",
     "text": [
      "Epoch 1/100\n",
      "313/313 [==============================] - 5s 13ms/step - loss: 0.6987 - accuracy: 0.5013 - val_loss: 0.6971 - val_accuracy: 0.4992\n",
      "Epoch 2/100\n",
      "313/313 [==============================] - 4s 12ms/step - loss: 0.6931 - accuracy: 0.5200 - val_loss: 0.6915 - val_accuracy: 0.5246\n",
      "Epoch 3/100\n",
      "313/313 [==============================] - 4s 12ms/step - loss: 0.6869 - accuracy: 0.5475 - val_loss: 0.6874 - val_accuracy: 0.5518\n",
      "Epoch 4/100\n",
      "313/313 [==============================] - 3s 11ms/step - loss: 0.6801 - accuracy: 0.5782 - val_loss: 0.6795 - val_accuracy: 0.5886\n",
      "Epoch 5/100\n",
      "313/313 [==============================] - 4s 11ms/step - loss: 0.6702 - accuracy: 0.6064 - val_loss: 0.6698 - val_accuracy: 0.6086\n",
      "Epoch 6/100\n",
      "313/313 [==============================] - 3s 11ms/step - loss: 0.6568 - accuracy: 0.6352 - val_loss: 0.6558 - val_accuracy: 0.6298\n",
      "Epoch 7/100\n",
      "313/313 [==============================] - 4s 11ms/step - loss: 0.6407 - accuracy: 0.6596 - val_loss: 0.6398 - val_accuracy: 0.6554\n",
      "Epoch 8/100\n",
      "313/313 [==============================] - 4s 11ms/step - loss: 0.6222 - accuracy: 0.6835 - val_loss: 0.6206 - val_accuracy: 0.6816\n",
      "Epoch 9/100\n",
      "313/313 [==============================] - 4s 12ms/step - loss: 0.6022 - accuracy: 0.7042 - val_loss: 0.6024 - val_accuracy: 0.6992\n",
      "Epoch 10/100\n",
      "313/313 [==============================] - 4s 11ms/step - loss: 0.5808 - accuracy: 0.7232 - val_loss: 0.5838 - val_accuracy: 0.7142\n",
      "Epoch 11/100\n",
      "313/313 [==============================] - 4s 11ms/step - loss: 0.5606 - accuracy: 0.7375 - val_loss: 0.5657 - val_accuracy: 0.7280\n",
      "Epoch 12/100\n",
      "313/313 [==============================] - 4s 11ms/step - loss: 0.5412 - accuracy: 0.7502 - val_loss: 0.5485 - val_accuracy: 0.7372\n",
      "Epoch 13/100\n",
      "313/313 [==============================] - 4s 11ms/step - loss: 0.5240 - accuracy: 0.7606 - val_loss: 0.5338 - val_accuracy: 0.7470\n",
      "Epoch 14/100\n",
      "313/313 [==============================] - 4s 11ms/step - loss: 0.5088 - accuracy: 0.7697 - val_loss: 0.5206 - val_accuracy: 0.7544\n",
      "Epoch 15/100\n",
      "313/313 [==============================] - 4s 11ms/step - loss: 0.4957 - accuracy: 0.7767 - val_loss: 0.5085 - val_accuracy: 0.7606\n",
      "Epoch 16/100\n",
      "313/313 [==============================] - 4s 11ms/step - loss: 0.4844 - accuracy: 0.7804 - val_loss: 0.4992 - val_accuracy: 0.7656\n",
      "Epoch 17/100\n",
      "313/313 [==============================] - 4s 11ms/step - loss: 0.4743 - accuracy: 0.7865 - val_loss: 0.4901 - val_accuracy: 0.7718\n",
      "Epoch 18/100\n",
      "313/313 [==============================] - 3s 11ms/step - loss: 0.4662 - accuracy: 0.7897 - val_loss: 0.4853 - val_accuracy: 0.7730\n",
      "Epoch 19/100\n",
      "313/313 [==============================] - 4s 11ms/step - loss: 0.4588 - accuracy: 0.7926 - val_loss: 0.4789 - val_accuracy: 0.7792\n",
      "Epoch 20/100\n",
      "313/313 [==============================] - 4s 12ms/step - loss: 0.4525 - accuracy: 0.7966 - val_loss: 0.4749 - val_accuracy: 0.7826\n",
      "Epoch 21/100\n",
      "313/313 [==============================] - 4s 11ms/step - loss: 0.4470 - accuracy: 0.8004 - val_loss: 0.4736 - val_accuracy: 0.7788\n",
      "Epoch 22/100\n",
      "313/313 [==============================] - 4s 11ms/step - loss: 0.4420 - accuracy: 0.8012 - val_loss: 0.4677 - val_accuracy: 0.7856\n",
      "Epoch 23/100\n",
      "313/313 [==============================] - 4s 11ms/step - loss: 0.4374 - accuracy: 0.8029 - val_loss: 0.4630 - val_accuracy: 0.7900\n",
      "Epoch 24/100\n",
      "313/313 [==============================] - 4s 11ms/step - loss: 0.4335 - accuracy: 0.8049 - val_loss: 0.4614 - val_accuracy: 0.7882\n",
      "Epoch 25/100\n",
      "313/313 [==============================] - 4s 11ms/step - loss: 0.4303 - accuracy: 0.8077 - val_loss: 0.4661 - val_accuracy: 0.7836\n",
      "Epoch 26/100\n",
      "313/313 [==============================] - 4s 11ms/step - loss: 0.4269 - accuracy: 0.8084 - val_loss: 0.4597 - val_accuracy: 0.7882\n",
      "Epoch 27/100\n",
      "313/313 [==============================] - 4s 11ms/step - loss: 0.4247 - accuracy: 0.8097 - val_loss: 0.4587 - val_accuracy: 0.7900\n",
      "Epoch 28/100\n",
      "313/313 [==============================] - 4s 11ms/step - loss: 0.4214 - accuracy: 0.8116 - val_loss: 0.4602 - val_accuracy: 0.7902\n",
      "Epoch 29/100\n",
      "313/313 [==============================] - 4s 11ms/step - loss: 0.4191 - accuracy: 0.8137 - val_loss: 0.4558 - val_accuracy: 0.7922\n",
      "Epoch 30/100\n",
      "313/313 [==============================] - 4s 11ms/step - loss: 0.4167 - accuracy: 0.8138 - val_loss: 0.4555 - val_accuracy: 0.7922\n",
      "Epoch 31/100\n",
      "313/313 [==============================] - 4s 11ms/step - loss: 0.4147 - accuracy: 0.8145 - val_loss: 0.4574 - val_accuracy: 0.7924\n",
      "Epoch 32/100\n",
      "313/313 [==============================] - 4s 11ms/step - loss: 0.4127 - accuracy: 0.8156 - val_loss: 0.4523 - val_accuracy: 0.7932\n",
      "Epoch 33/100\n",
      "313/313 [==============================] - 4s 11ms/step - loss: 0.4114 - accuracy: 0.8177 - val_loss: 0.4530 - val_accuracy: 0.7922\n",
      "Epoch 34/100\n",
      "313/313 [==============================] - 4s 11ms/step - loss: 0.4094 - accuracy: 0.8187 - val_loss: 0.4626 - val_accuracy: 0.7828\n",
      "Epoch 35/100\n",
      "313/313 [==============================] - 4s 11ms/step - loss: 0.4080 - accuracy: 0.8199 - val_loss: 0.4534 - val_accuracy: 0.7926\n"
     ]
    }
   ],
   "source": [
    "checkpoint_cb = keras.callbacks.ModelCheckpoint('best-simplernn-model.h5', save_best_only=True)\n",
    "early_stopping_cb = keras.callbacks.EarlyStopping(patience=3, restore_best_weights=True)\n",
    "history = model.fit(train_oh, train_target, epochs=100, batch_size=64,\n",
    "                    validation_data=(val_oh, val_target),\n",
    "                    callbacks=[checkpoint_cb, early_stopping_cb])"
   ]
  },
  {
   "cell_type": "code",
   "execution_count": 76,
   "id": "d9c15889",
   "metadata": {},
   "outputs": [
    {
     "name": "stderr",
     "output_type": "stream",
     "text": [
      "C:\\Users\\kimtp\\AppData\\Local\\Temp\\ipykernel_26488\\3031604643.py:5: UserWarning: Legend does not support handles for str instances.\n",
      "A proxy artist may be used instead.\n",
      "See: https://matplotlib.org/stable/tutorials/intermediate/legend_guide.html#controlling-the-legend-entries\n",
      "  plt.legend('train', 'val')\n"
     ]
    },
    {
     "data": {
      "image/png": "[encoded data removed]",
      "text/plain": [
       "<Figure size 640x480 with 1 Axes>"
      ]
     },
     "metadata": {},
     "output_type": "display_data"
    }
   ],
   "source": [
    "plt.plot(history.history['loss'])\n",
    "plt.plot(history.history['val_loss'])\n",
    "plt.xlabel('epoch')\n",
    "plt.ylabel('loss')\n",
    "plt.legend('train', 'val')\n",
    "plt.show()"
   ]
  },
  {
   "cell_type": "code",
   "execution_count": 77,
   "id": "c8fd5d23",
   "metadata": {},
   "outputs": [],
   "source": [
    "model2 = keras.Sequential()\n",
    "model2.add(keras.layers.Embedding(500, 16, input_length=100))\n",
    "model2.add(keras.layers.SimpleRNN(8))\n",
    "model2.add(keras.layers.Dense(1,activation='sigmoid'))"
   ]
  },
  {
   "cell_type": "code",
   "execution_count": 78,
   "id": "9a401f21",
   "metadata": {},
   "outputs": [
    {
     "name": "stdout",
     "output_type": "stream",
     "text": [
      "Model: \"sequential_3\"\n",
      "_________________________________________________________________\n",
      " Layer (type)                Output Shape              Param #   \n",
      "=================================================================\n",
      " embedding (Embedding)       (None, 100, 16)           8000      \n",
      "                                                                 \n",
      " simple_rnn_1 (SimpleRNN)    (None, 8)                 200       \n",
      "                                                                 \n",
      " dense_5 (Dense)             (None, 1)                 9         \n",
      "                                                                 \n",
      "=================================================================\n",
      "Total params: 8209 (32.07 KB)\n",
      "Trainable params: 8209 (32.07 KB)\n",
      "Non-trainable params: 0 (0.00 Byte)\n",
      "_________________________________________________________________\n"
     ]
    }
   ],
   "source": [
    "model2.summary()"
   ]
  },
  {
   "cell_type": "code",
   "execution_count": 79,
   "id": "5b6b2220",
   "metadata": {},
   "outputs": [
    {
     "name": "stdout",
     "output_type": "stream",
     "text": [
      "Epoch 1/100\n",
      "313/313 [==============================] - 6s 16ms/step - loss: 0.6860 - accuracy: 0.5518 - val_loss: 0.6697 - val_accuracy: 0.6098\n",
      "Epoch 2/100\n",
      "313/313 [==============================] - 4s 14ms/step - loss: 0.6502 - accuracy: 0.6603 - val_loss: 0.6425 - val_accuracy: 0.6710\n",
      "Epoch 3/100\n",
      "313/313 [==============================] - 5s 15ms/step - loss: 0.6243 - accuracy: 0.7096 - val_loss: 0.6208 - val_accuracy: 0.7160\n",
      "Epoch 4/100\n",
      "313/313 [==============================] - 4s 14ms/step - loss: 0.6052 - accuracy: 0.7351 - val_loss: 0.6030 - val_accuracy: 0.7322\n",
      "Epoch 5/100\n",
      "313/313 [==============================] - 4s 14ms/step - loss: 0.5876 - accuracy: 0.7480 - val_loss: 0.5860 - val_accuracy: 0.7476\n",
      "Epoch 6/100\n",
      "313/313 [==============================] - 4s 14ms/step - loss: 0.5696 - accuracy: 0.7594 - val_loss: 0.5728 - val_accuracy: 0.7432\n",
      "Epoch 7/100\n",
      "313/313 [==============================] - 4s 14ms/step - loss: 0.5532 - accuracy: 0.7667 - val_loss: 0.5591 - val_accuracy: 0.7622\n",
      "Epoch 8/100\n",
      "313/313 [==============================] - 4s 14ms/step - loss: 0.5371 - accuracy: 0.7762 - val_loss: 0.5426 - val_accuracy: 0.7648\n",
      "Epoch 9/100\n",
      "313/313 [==============================] - 4s 14ms/step - loss: 0.5221 - accuracy: 0.7809 - val_loss: 0.5345 - val_accuracy: 0.7622\n",
      "Epoch 10/100\n",
      "313/313 [==============================] - 5s 14ms/step - loss: 0.5076 - accuracy: 0.7865 - val_loss: 0.5186 - val_accuracy: 0.7752\n",
      "Epoch 11/100\n",
      "313/313 [==============================] - 4s 14ms/step - loss: 0.4944 - accuracy: 0.7902 - val_loss: 0.5124 - val_accuracy: 0.7678\n",
      "Epoch 12/100\n",
      "313/313 [==============================] - 4s 14ms/step - loss: 0.4830 - accuracy: 0.7954 - val_loss: 0.4978 - val_accuracy: 0.7818\n",
      "Epoch 13/100\n",
      "313/313 [==============================] - 4s 14ms/step - loss: 0.4721 - accuracy: 0.7984 - val_loss: 0.4925 - val_accuracy: 0.7740\n",
      "Epoch 14/100\n",
      "313/313 [==============================] - 4s 14ms/step - loss: 0.4619 - accuracy: 0.8021 - val_loss: 0.4830 - val_accuracy: 0.7844\n",
      "Epoch 15/100\n",
      "313/313 [==============================] - 4s 14ms/step - loss: 0.4538 - accuracy: 0.8052 - val_loss: 0.4774 - val_accuracy: 0.7860\n",
      "Epoch 16/100\n",
      "313/313 [==============================] - 4s 14ms/step - loss: 0.4462 - accuracy: 0.8061 - val_loss: 0.4732 - val_accuracy: 0.7864\n",
      "Epoch 17/100\n",
      "313/313 [==============================] - 4s 14ms/step - loss: 0.4394 - accuracy: 0.8088 - val_loss: 0.4707 - val_accuracy: 0.7874\n",
      "Epoch 18/100\n",
      "313/313 [==============================] - 4s 14ms/step - loss: 0.4334 - accuracy: 0.8127 - val_loss: 0.4687 - val_accuracy: 0.7836\n",
      "Epoch 19/100\n",
      "313/313 [==============================] - 4s 14ms/step - loss: 0.4282 - accuracy: 0.8135 - val_loss: 0.4631 - val_accuracy: 0.7876\n",
      "Epoch 20/100\n",
      "313/313 [==============================] - 4s 14ms/step - loss: 0.4233 - accuracy: 0.8170 - val_loss: 0.4649 - val_accuracy: 0.7868\n",
      "Epoch 21/100\n",
      "313/313 [==============================] - 4s 14ms/step - loss: 0.4192 - accuracy: 0.8181 - val_loss: 0.4628 - val_accuracy: 0.7870\n",
      "Epoch 22/100\n",
      "313/313 [==============================] - 4s 14ms/step - loss: 0.4158 - accuracy: 0.8182 - val_loss: 0.4609 - val_accuracy: 0.7890\n",
      "Epoch 23/100\n",
      "313/313 [==============================] - 4s 14ms/step - loss: 0.4123 - accuracy: 0.8192 - val_loss: 0.4634 - val_accuracy: 0.7864\n",
      "Epoch 24/100\n",
      "313/313 [==============================] - 4s 14ms/step - loss: 0.4095 - accuracy: 0.8218 - val_loss: 0.4584 - val_accuracy: 0.7916\n",
      "Epoch 25/100\n",
      "313/313 [==============================] - 4s 14ms/step - loss: 0.4062 - accuracy: 0.8227 - val_loss: 0.4597 - val_accuracy: 0.7892\n",
      "Epoch 26/100\n",
      "313/313 [==============================] - 4s 14ms/step - loss: 0.4038 - accuracy: 0.8242 - val_loss: 0.4592 - val_accuracy: 0.7888\n",
      "Epoch 27/100\n",
      "313/313 [==============================] - 4s 14ms/step - loss: 0.4015 - accuracy: 0.8249 - val_loss: 0.4596 - val_accuracy: 0.7914\n"
     ]
    }
   ],
   "source": [
    "rmsprop = keras.optimizers.RMSprop(learning_rate=0.0001)\n",
    "model2.compile(optimizer=rmsprop, loss='binary_crossentropy', metrics=['accuracy'])\n",
    "checkpoint_cb = keras.callbacks.ModelCheckpoint('best-embedding-model.h5', save_best_only=True)\n",
    "early_stopping_cb = keras.callbacks.EarlyStopping(patience=3, restore_best_weights=True)\n",
    "history = model2.fit(train_seq, train_target, epochs=100, batch_size=64,\n",
    "                    validation_data=(val_seq, val_target),\n",
    "                    callbacks=[checkpoint_cb, early_stopping_cb])"
   ]
  },
  {
   "cell_type": "code",
   "execution_count": null,
   "id": "49a8c1f9",
   "metadata": {},
   "outputs": [],
   "source": []
  }
 ],
 "metadata": {
  "kernelspec": {
   "display_name": "Python 3 (ipykernel)",
   "language": "python",
   "name": "python3"
  },
  "language_info": {
   "codemirror_mode": {
    "name": "ipython",
    "version": 3
   },
   "file_extension": ".py",
   "mimetype": "text/x-python",
   "name": "python",
   "nbconvert_exporter": "python",
   "pygments_lexer": "ipython3",
   "version": "3.11.5"
  }
 },
 "nbformat": 4,
 "nbformat_minor": 5
}
