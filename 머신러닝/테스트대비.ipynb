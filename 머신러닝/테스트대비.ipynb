{
 "cells": [
  {
   "cell_type": "code",
   "execution_count": 25,
   "id": "ac748f1a",
   "metadata": {},
   "outputs": [],
   "source": [
    "import pandas as pd\n",
    "import numpy as np"
   ]
  },
  {
   "cell_type": "code",
   "execution_count": 2,
   "id": "685b238e",
   "metadata": {},
   "outputs": [],
   "source": [
    "house = pd.read_csv('C:/Users/ds/Desktop/파이썬/예제/src/house_price.csv')"
   ]
  },
  {
   "cell_type": "code",
   "execution_count": 3,
   "id": "5fb6726c",
   "metadata": {},
   "outputs": [
    {
     "data": {
      "text/html": [
       "<div>\n",
       "<style scoped>\n",
       "    .dataframe tbody tr th:only-of-type {\n",
       "        vertical-align: middle;\n",
       "    }\n",
       "\n",
       "    .dataframe tbody tr th {\n",
       "        vertical-align: top;\n",
       "    }\n",
       "\n",
       "    .dataframe thead th {\n",
       "        text-align: right;\n",
       "    }\n",
       "</style>\n",
       "<table border=\"1\" class=\"dataframe\">\n",
       "  <thead>\n",
       "    <tr style=\"text-align: right;\">\n",
       "      <th></th>\n",
       "      <th>CRIM</th>\n",
       "      <th>ZN</th>\n",
       "      <th>INDUS</th>\n",
       "      <th>CHAS</th>\n",
       "      <th>NOX</th>\n",
       "      <th>RM</th>\n",
       "      <th>AGE</th>\n",
       "      <th>DIS</th>\n",
       "      <th>RAD</th>\n",
       "      <th>TAX</th>\n",
       "      <th>PTRATIO</th>\n",
       "      <th>B</th>\n",
       "      <th>LSTAT</th>\n",
       "      <th>MEDV</th>\n",
       "      <th>CAT.MEDV</th>\n",
       "    </tr>\n",
       "  </thead>\n",
       "  <tbody>\n",
       "    <tr>\n",
       "      <th>0</th>\n",
       "      <td>0.00632</td>\n",
       "      <td>18.0</td>\n",
       "      <td>2.31</td>\n",
       "      <td>0</td>\n",
       "      <td>0.538</td>\n",
       "      <td>6.575</td>\n",
       "      <td>65.2</td>\n",
       "      <td>4.0900</td>\n",
       "      <td>1</td>\n",
       "      <td>296</td>\n",
       "      <td>15.3</td>\n",
       "      <td>396.90</td>\n",
       "      <td>4.98</td>\n",
       "      <td>24.0</td>\n",
       "      <td>0</td>\n",
       "    </tr>\n",
       "    <tr>\n",
       "      <th>1</th>\n",
       "      <td>0.02731</td>\n",
       "      <td>0.0</td>\n",
       "      <td>7.07</td>\n",
       "      <td>0</td>\n",
       "      <td>0.469</td>\n",
       "      <td>6.421</td>\n",
       "      <td>78.9</td>\n",
       "      <td>4.9671</td>\n",
       "      <td>2</td>\n",
       "      <td>242</td>\n",
       "      <td>17.8</td>\n",
       "      <td>396.90</td>\n",
       "      <td>9.14</td>\n",
       "      <td>21.6</td>\n",
       "      <td>0</td>\n",
       "    </tr>\n",
       "    <tr>\n",
       "      <th>2</th>\n",
       "      <td>0.02729</td>\n",
       "      <td>0.0</td>\n",
       "      <td>7.07</td>\n",
       "      <td>0</td>\n",
       "      <td>0.469</td>\n",
       "      <td>7.185</td>\n",
       "      <td>61.1</td>\n",
       "      <td>4.9671</td>\n",
       "      <td>2</td>\n",
       "      <td>242</td>\n",
       "      <td>17.8</td>\n",
       "      <td>392.83</td>\n",
       "      <td>4.03</td>\n",
       "      <td>34.7</td>\n",
       "      <td>1</td>\n",
       "    </tr>\n",
       "    <tr>\n",
       "      <th>3</th>\n",
       "      <td>0.03237</td>\n",
       "      <td>0.0</td>\n",
       "      <td>2.18</td>\n",
       "      <td>0</td>\n",
       "      <td>0.458</td>\n",
       "      <td>6.998</td>\n",
       "      <td>45.8</td>\n",
       "      <td>6.0622</td>\n",
       "      <td>3</td>\n",
       "      <td>222</td>\n",
       "      <td>18.7</td>\n",
       "      <td>394.63</td>\n",
       "      <td>2.94</td>\n",
       "      <td>33.4</td>\n",
       "      <td>1</td>\n",
       "    </tr>\n",
       "    <tr>\n",
       "      <th>4</th>\n",
       "      <td>0.06905</td>\n",
       "      <td>0.0</td>\n",
       "      <td>2.18</td>\n",
       "      <td>0</td>\n",
       "      <td>0.458</td>\n",
       "      <td>7.147</td>\n",
       "      <td>54.2</td>\n",
       "      <td>6.0622</td>\n",
       "      <td>3</td>\n",
       "      <td>222</td>\n",
       "      <td>18.7</td>\n",
       "      <td>396.90</td>\n",
       "      <td>5.33</td>\n",
       "      <td>36.2</td>\n",
       "      <td>1</td>\n",
       "    </tr>\n",
       "  </tbody>\n",
       "</table>\n",
       "</div>"
      ],
      "text/plain": [
       "      CRIM    ZN  INDUS  CHAS    NOX     RM   AGE     DIS  RAD  TAX  PTRATIO  \\\n",
       "0  0.00632  18.0   2.31     0  0.538  6.575  65.2  4.0900    1  296     15.3   \n",
       "1  0.02731   0.0   7.07     0  0.469  6.421  78.9  4.9671    2  242     17.8   \n",
       "2  0.02729   0.0   7.07     0  0.469  7.185  61.1  4.9671    2  242     17.8   \n",
       "3  0.03237   0.0   2.18     0  0.458  6.998  45.8  6.0622    3  222     18.7   \n",
       "4  0.06905   0.0   2.18     0  0.458  7.147  54.2  6.0622    3  222     18.7   \n",
       "\n",
       "        B  LSTAT  MEDV  CAT.MEDV  \n",
       "0  396.90   4.98  24.0         0  \n",
       "1  396.90   9.14  21.6         0  \n",
       "2  392.83   4.03  34.7         1  \n",
       "3  394.63   2.94  33.4         1  \n",
       "4  396.90   5.33  36.2         1  "
      ]
     },
     "execution_count": 3,
     "metadata": {},
     "output_type": "execute_result"
    }
   ],
   "source": [
    "house.head()"
   ]
  },
  {
   "cell_type": "code",
   "execution_count": 4,
   "id": "f603a007",
   "metadata": {},
   "outputs": [
    {
     "data": {
      "text/plain": [
       "CRIM        0\n",
       "ZN          0\n",
       "INDUS       0\n",
       "CHAS        0\n",
       "NOX         0\n",
       "RM          0\n",
       "AGE         0\n",
       "DIS         0\n",
       "RAD         0\n",
       "TAX         0\n",
       "PTRATIO     0\n",
       "B           0\n",
       "LSTAT       0\n",
       "MEDV        0\n",
       "CAT.MEDV    0\n",
       "dtype: int64"
      ]
     },
     "execution_count": 4,
     "metadata": {},
     "output_type": "execute_result"
    }
   ],
   "source": [
    "house.isnull().sum()"
   ]
  },
  {
   "cell_type": "code",
   "execution_count": 5,
   "id": "ef4b7af6",
   "metadata": {},
   "outputs": [],
   "source": [
    "drop_features = ['ZN','CHAS','RAD','CAT.MEDV']"
   ]
  },
  {
   "cell_type": "code",
   "execution_count": 6,
   "id": "beb9c06b",
   "metadata": {},
   "outputs": [],
   "source": [
    "house = house.drop(drop_features, axis=1)"
   ]
  },
  {
   "cell_type": "code",
   "execution_count": 7,
   "id": "62fddf8c",
   "metadata": {},
   "outputs": [
    {
     "data": {
      "text/html": [
       "<div>\n",
       "<style scoped>\n",
       "    .dataframe tbody tr th:only-of-type {\n",
       "        vertical-align: middle;\n",
       "    }\n",
       "\n",
       "    .dataframe tbody tr th {\n",
       "        vertical-align: top;\n",
       "    }\n",
       "\n",
       "    .dataframe thead th {\n",
       "        text-align: right;\n",
       "    }\n",
       "</style>\n",
       "<table border=\"1\" class=\"dataframe\">\n",
       "  <thead>\n",
       "    <tr style=\"text-align: right;\">\n",
       "      <th></th>\n",
       "      <th>CRIM</th>\n",
       "      <th>INDUS</th>\n",
       "      <th>NOX</th>\n",
       "      <th>RM</th>\n",
       "      <th>AGE</th>\n",
       "      <th>DIS</th>\n",
       "      <th>TAX</th>\n",
       "      <th>PTRATIO</th>\n",
       "      <th>B</th>\n",
       "      <th>LSTAT</th>\n",
       "      <th>MEDV</th>\n",
       "    </tr>\n",
       "  </thead>\n",
       "  <tbody>\n",
       "    <tr>\n",
       "      <th>0</th>\n",
       "      <td>0.00632</td>\n",
       "      <td>2.31</td>\n",
       "      <td>0.538</td>\n",
       "      <td>6.575</td>\n",
       "      <td>65.2</td>\n",
       "      <td>4.0900</td>\n",
       "      <td>296</td>\n",
       "      <td>15.3</td>\n",
       "      <td>396.90</td>\n",
       "      <td>4.98</td>\n",
       "      <td>24.0</td>\n",
       "    </tr>\n",
       "    <tr>\n",
       "      <th>1</th>\n",
       "      <td>0.02731</td>\n",
       "      <td>7.07</td>\n",
       "      <td>0.469</td>\n",
       "      <td>6.421</td>\n",
       "      <td>78.9</td>\n",
       "      <td>4.9671</td>\n",
       "      <td>242</td>\n",
       "      <td>17.8</td>\n",
       "      <td>396.90</td>\n",
       "      <td>9.14</td>\n",
       "      <td>21.6</td>\n",
       "    </tr>\n",
       "    <tr>\n",
       "      <th>2</th>\n",
       "      <td>0.02729</td>\n",
       "      <td>7.07</td>\n",
       "      <td>0.469</td>\n",
       "      <td>7.185</td>\n",
       "      <td>61.1</td>\n",
       "      <td>4.9671</td>\n",
       "      <td>242</td>\n",
       "      <td>17.8</td>\n",
       "      <td>392.83</td>\n",
       "      <td>4.03</td>\n",
       "      <td>34.7</td>\n",
       "    </tr>\n",
       "    <tr>\n",
       "      <th>3</th>\n",
       "      <td>0.03237</td>\n",
       "      <td>2.18</td>\n",
       "      <td>0.458</td>\n",
       "      <td>6.998</td>\n",
       "      <td>45.8</td>\n",
       "      <td>6.0622</td>\n",
       "      <td>222</td>\n",
       "      <td>18.7</td>\n",
       "      <td>394.63</td>\n",
       "      <td>2.94</td>\n",
       "      <td>33.4</td>\n",
       "    </tr>\n",
       "    <tr>\n",
       "      <th>4</th>\n",
       "      <td>0.06905</td>\n",
       "      <td>2.18</td>\n",
       "      <td>0.458</td>\n",
       "      <td>7.147</td>\n",
       "      <td>54.2</td>\n",
       "      <td>6.0622</td>\n",
       "      <td>222</td>\n",
       "      <td>18.7</td>\n",
       "      <td>396.90</td>\n",
       "      <td>5.33</td>\n",
       "      <td>36.2</td>\n",
       "    </tr>\n",
       "    <tr>\n",
       "      <th>...</th>\n",
       "      <td>...</td>\n",
       "      <td>...</td>\n",
       "      <td>...</td>\n",
       "      <td>...</td>\n",
       "      <td>...</td>\n",
       "      <td>...</td>\n",
       "      <td>...</td>\n",
       "      <td>...</td>\n",
       "      <td>...</td>\n",
       "      <td>...</td>\n",
       "      <td>...</td>\n",
       "    </tr>\n",
       "    <tr>\n",
       "      <th>501</th>\n",
       "      <td>0.06263</td>\n",
       "      <td>11.93</td>\n",
       "      <td>0.573</td>\n",
       "      <td>6.593</td>\n",
       "      <td>69.1</td>\n",
       "      <td>2.4786</td>\n",
       "      <td>273</td>\n",
       "      <td>21.0</td>\n",
       "      <td>391.99</td>\n",
       "      <td>9.67</td>\n",
       "      <td>22.4</td>\n",
       "    </tr>\n",
       "    <tr>\n",
       "      <th>502</th>\n",
       "      <td>0.04527</td>\n",
       "      <td>11.93</td>\n",
       "      <td>0.573</td>\n",
       "      <td>6.120</td>\n",
       "      <td>76.7</td>\n",
       "      <td>2.2875</td>\n",
       "      <td>273</td>\n",
       "      <td>21.0</td>\n",
       "      <td>396.90</td>\n",
       "      <td>9.08</td>\n",
       "      <td>20.6</td>\n",
       "    </tr>\n",
       "    <tr>\n",
       "      <th>503</th>\n",
       "      <td>0.06076</td>\n",
       "      <td>11.93</td>\n",
       "      <td>0.573</td>\n",
       "      <td>6.976</td>\n",
       "      <td>91.0</td>\n",
       "      <td>2.1675</td>\n",
       "      <td>273</td>\n",
       "      <td>21.0</td>\n",
       "      <td>396.90</td>\n",
       "      <td>5.64</td>\n",
       "      <td>23.9</td>\n",
       "    </tr>\n",
       "    <tr>\n",
       "      <th>504</th>\n",
       "      <td>0.10959</td>\n",
       "      <td>11.93</td>\n",
       "      <td>0.573</td>\n",
       "      <td>6.794</td>\n",
       "      <td>89.3</td>\n",
       "      <td>2.3889</td>\n",
       "      <td>273</td>\n",
       "      <td>21.0</td>\n",
       "      <td>393.45</td>\n",
       "      <td>6.48</td>\n",
       "      <td>22.0</td>\n",
       "    </tr>\n",
       "    <tr>\n",
       "      <th>505</th>\n",
       "      <td>0.04741</td>\n",
       "      <td>11.93</td>\n",
       "      <td>0.573</td>\n",
       "      <td>6.030</td>\n",
       "      <td>80.8</td>\n",
       "      <td>2.5050</td>\n",
       "      <td>273</td>\n",
       "      <td>21.0</td>\n",
       "      <td>396.90</td>\n",
       "      <td>7.88</td>\n",
       "      <td>11.9</td>\n",
       "    </tr>\n",
       "  </tbody>\n",
       "</table>\n",
       "<p>506 rows × 11 columns</p>\n",
       "</div>"
      ],
      "text/plain": [
       "        CRIM  INDUS    NOX     RM   AGE     DIS  TAX  PTRATIO       B  LSTAT  \\\n",
       "0    0.00632   2.31  0.538  6.575  65.2  4.0900  296     15.3  396.90   4.98   \n",
       "1    0.02731   7.07  0.469  6.421  78.9  4.9671  242     17.8  396.90   9.14   \n",
       "2    0.02729   7.07  0.469  7.185  61.1  4.9671  242     17.8  392.83   4.03   \n",
       "3    0.03237   2.18  0.458  6.998  45.8  6.0622  222     18.7  394.63   2.94   \n",
       "4    0.06905   2.18  0.458  7.147  54.2  6.0622  222     18.7  396.90   5.33   \n",
       "..       ...    ...    ...    ...   ...     ...  ...      ...     ...    ...   \n",
       "501  0.06263  11.93  0.573  6.593  69.1  2.4786  273     21.0  391.99   9.67   \n",
       "502  0.04527  11.93  0.573  6.120  76.7  2.2875  273     21.0  396.90   9.08   \n",
       "503  0.06076  11.93  0.573  6.976  91.0  2.1675  273     21.0  396.90   5.64   \n",
       "504  0.10959  11.93  0.573  6.794  89.3  2.3889  273     21.0  393.45   6.48   \n",
       "505  0.04741  11.93  0.573  6.030  80.8  2.5050  273     21.0  396.90   7.88   \n",
       "\n",
       "     MEDV  \n",
       "0    24.0  \n",
       "1    21.6  \n",
       "2    34.7  \n",
       "3    33.4  \n",
       "4    36.2  \n",
       "..    ...  \n",
       "501  22.4  \n",
       "502  20.6  \n",
       "503  23.9  \n",
       "504  22.0  \n",
       "505  11.9  \n",
       "\n",
       "[506 rows x 11 columns]"
      ]
     },
     "execution_count": 7,
     "metadata": {},
     "output_type": "execute_result"
    }
   ],
   "source": [
    "house"
   ]
  },
  {
   "cell_type": "code",
   "execution_count": 8,
   "id": "2f888b33",
   "metadata": {},
   "outputs": [],
   "source": [
    "house_input = house[['CRIM','INDUS','NOX','RM','AGE','DIS','TAX','PTRATIO','B','LSTAT']].to_numpy()"
   ]
  },
  {
   "cell_type": "code",
   "execution_count": 9,
   "id": "6312de53",
   "metadata": {
    "scrolled": false
   },
   "outputs": [
    {
     "data": {
      "text/plain": [
       "array([[6.3200e-03, 2.3100e+00, 5.3800e-01, ..., 1.5300e+01, 3.9690e+02,\n",
       "        4.9800e+00],\n",
       "       [2.7310e-02, 7.0700e+00, 4.6900e-01, ..., 1.7800e+01, 3.9690e+02,\n",
       "        9.1400e+00],\n",
       "       [2.7290e-02, 7.0700e+00, 4.6900e-01, ..., 1.7800e+01, 3.9283e+02,\n",
       "        4.0300e+00],\n",
       "       ...,\n",
       "       [6.0760e-02, 1.1930e+01, 5.7300e-01, ..., 2.1000e+01, 3.9690e+02,\n",
       "        5.6400e+00],\n",
       "       [1.0959e-01, 1.1930e+01, 5.7300e-01, ..., 2.1000e+01, 3.9345e+02,\n",
       "        6.4800e+00],\n",
       "       [4.7410e-02, 1.1930e+01, 5.7300e-01, ..., 2.1000e+01, 3.9690e+02,\n",
       "        7.8800e+00]])"
      ]
     },
     "execution_count": 9,
     "metadata": {},
     "output_type": "execute_result"
    }
   ],
   "source": [
    "house_input"
   ]
  },
  {
   "cell_type": "code",
   "execution_count": 10,
   "id": "16477105",
   "metadata": {},
   "outputs": [],
   "source": [
    "house_target = house['MEDV'].to_numpy()"
   ]
  },
  {
   "cell_type": "code",
   "execution_count": 19,
   "id": "63f711ac",
   "metadata": {},
   "outputs": [],
   "source": [
    "from sklearn.model_selection import train_test_split"
   ]
  },
  {
   "cell_type": "code",
   "execution_count": 12,
   "id": "7fb2d832",
   "metadata": {},
   "outputs": [],
   "source": [
    "train_input, test_input, train_target, test_target = train_test_split(\n",
    "house_input, house_target, random_state = 42)"
   ]
  },
  {
   "cell_type": "code",
   "execution_count": 20,
   "id": "933a0a01",
   "metadata": {},
   "outputs": [],
   "source": [
    "from sklearn.model_selection import cross_validate\n",
    "from sklearn.ensemble import RandomForestClassifier\n",
    "from sklearn.ensemble import RandomForestRegressor"
   ]
  },
  {
   "cell_type": "code",
   "execution_count": 21,
   "id": "4304d7ac",
   "metadata": {},
   "outputs": [],
   "source": [
    "randomF = RandomForestRegressor()"
   ]
  },
  {
   "cell_type": "code",
   "execution_count": 22,
   "id": "5cf9279d",
   "metadata": {},
   "outputs": [],
   "source": [
    "scores = cross_validate(randomF, train_input, train_target, \n",
    "                       return_train_score=True, n_jobs = -1)"
   ]
  },
  {
   "cell_type": "code",
   "execution_count": 23,
   "id": "626febd4",
   "metadata": {},
   "outputs": [
    {
     "data": {
      "text/plain": [
       "{'fit_time': array([0.77659249, 0.76263809, 0.80746388, 0.76765013, 0.72540164]),\n",
       " 'score_time': array([0.01157045, 0.0135529 , 0.01006413, 0.01389503, 0.01190734]),\n",
       " 'test_score': array([0.88036645, 0.79610924, 0.89063564, 0.88148898, 0.78230326]),\n",
       " 'train_score': array([0.97859225, 0.97403681, 0.97782406, 0.9769233 , 0.97996858])}"
      ]
     },
     "execution_count": 23,
     "metadata": {},
     "output_type": "execute_result"
    }
   ],
   "source": [
    "scores"
   ]
  },
  {
   "cell_type": "code",
   "execution_count": 26,
   "id": "5bc5bffa",
   "metadata": {},
   "outputs": [
    {
     "name": "stdout",
     "output_type": "stream",
     "text": [
      "0.9774689990279188 0.8461807150947198\n"
     ]
    }
   ],
   "source": [
    "print(np.mean(scores['train_score']), np.mean(scores['test_score']))"
   ]
  },
  {
   "cell_type": "code",
   "execution_count": 27,
   "id": "41d57e37",
   "metadata": {},
   "outputs": [
    {
     "data": {
      "text/html": [
       "<style>#sk-container-id-1 {color: black;}#sk-container-id-1 pre{padding: 0;}#sk-container-id-1 div.sk-toggleable {background-color: white;}#sk-container-id-1 label.sk-toggleable__label {cursor: pointer;display: block;width: 100%;margin-bottom: 0;padding: 0.3em;box-sizing: border-box;text-align: center;}#sk-container-id-1 label.sk-toggleable__label-arrow:before {content: \"▸\";float: left;margin-right: 0.25em;color: #696969;}#sk-container-id-1 label.sk-toggleable__label-arrow:hover:before {color: black;}#sk-container-id-1 div.sk-estimator:hover label.sk-toggleable__label-arrow:before {color: black;}#sk-container-id-1 div.sk-toggleable__content {max-height: 0;max-width: 0;overflow: hidden;text-align: left;background-color: #f0f8ff;}#sk-container-id-1 div.sk-toggleable__content pre {margin: 0.2em;color: black;border-radius: 0.25em;background-color: #f0f8ff;}#sk-container-id-1 input.sk-toggleable__control:checked~div.sk-toggleable__content {max-height: 200px;max-width: 100%;overflow: auto;}#sk-container-id-1 input.sk-toggleable__control:checked~label.sk-toggleable__label-arrow:before {content: \"▾\";}#sk-container-id-1 div.sk-estimator input.sk-toggleable__control:checked~label.sk-toggleable__label {background-color: #d4ebff;}#sk-container-id-1 div.sk-label input.sk-toggleable__control:checked~label.sk-toggleable__label {background-color: #d4ebff;}#sk-container-id-1 input.sk-hidden--visually {border: 0;clip: rect(1px 1px 1px 1px);clip: rect(1px, 1px, 1px, 1px);height: 1px;margin: -1px;overflow: hidden;padding: 0;position: absolute;width: 1px;}#sk-container-id-1 div.sk-estimator {font-family: monospace;background-color: #f0f8ff;border: 1px dotted black;border-radius: 0.25em;box-sizing: border-box;margin-bottom: 0.5em;}#sk-container-id-1 div.sk-estimator:hover {background-color: #d4ebff;}#sk-container-id-1 div.sk-parallel-item::after {content: \"\";width: 100%;border-bottom: 1px solid gray;flex-grow: 1;}#sk-container-id-1 div.sk-label:hover label.sk-toggleable__label {background-color: #d4ebff;}#sk-container-id-1 div.sk-serial::before {content: \"\";position: absolute;border-left: 1px solid gray;box-sizing: border-box;top: 0;bottom: 0;left: 50%;z-index: 0;}#sk-container-id-1 div.sk-serial {display: flex;flex-direction: column;align-items: center;background-color: white;padding-right: 0.2em;padding-left: 0.2em;position: relative;}#sk-container-id-1 div.sk-item {position: relative;z-index: 1;}#sk-container-id-1 div.sk-parallel {display: flex;align-items: stretch;justify-content: center;background-color: white;position: relative;}#sk-container-id-1 div.sk-item::before, #sk-container-id-1 div.sk-parallel-item::before {content: \"\";position: absolute;border-left: 1px solid gray;box-sizing: border-box;top: 0;bottom: 0;left: 50%;z-index: -1;}#sk-container-id-1 div.sk-parallel-item {display: flex;flex-direction: column;z-index: 1;position: relative;background-color: white;}#sk-container-id-1 div.sk-parallel-item:first-child::after {align-self: flex-end;width: 50%;}#sk-container-id-1 div.sk-parallel-item:last-child::after {align-self: flex-start;width: 50%;}#sk-container-id-1 div.sk-parallel-item:only-child::after {width: 0;}#sk-container-id-1 div.sk-dashed-wrapped {border: 1px dashed gray;margin: 0 0.4em 0.5em 0.4em;box-sizing: border-box;padding-bottom: 0.4em;background-color: white;}#sk-container-id-1 div.sk-label label {font-family: monospace;font-weight: bold;display: inline-block;line-height: 1.2em;}#sk-container-id-1 div.sk-label-container {text-align: center;}#sk-container-id-1 div.sk-container {/* jupyter's `normalize.less` sets `[hidden] { display: none; }` but bootstrap.min.css set `[hidden] { display: none !important; }` so we also need the `!important` here to be able to override the default hidden behavior on the sphinx rendered scikit-learn.org. See: https://github.com/scikit-learn/scikit-learn/issues/21755 */display: inline-block !important;position: relative;}#sk-container-id-1 div.sk-text-repr-fallback {display: none;}</style><div id=\"sk-container-id-1\" class=\"sk-top-container\"><div class=\"sk-text-repr-fallback\"><pre>RandomForestRegressor()</pre><b>In a Jupyter environment, please rerun this cell to show the HTML representation or trust the notebook. <br />On GitHub, the HTML representation is unable to render, please try loading this page with nbviewer.org.</b></div><div class=\"sk-container\" hidden><div class=\"sk-item\"><div class=\"sk-estimator sk-toggleable\"><input class=\"sk-toggleable__control sk-hidden--visually\" id=\"sk-estimator-id-1\" type=\"checkbox\" checked><label for=\"sk-estimator-id-1\" class=\"sk-toggleable__label sk-toggleable__label-arrow\">RandomForestRegressor</label><div class=\"sk-toggleable__content\"><pre>RandomForestRegressor()</pre></div></div></div></div></div>"
      ],
      "text/plain": [
       "RandomForestRegressor()"
      ]
     },
     "execution_count": 27,
     "metadata": {},
     "output_type": "execute_result"
    }
   ],
   "source": [
    "randomF.fit(train_input, train_target)"
   ]
  },
  {
   "cell_type": "code",
   "execution_count": 34,
   "id": "7012ae0a",
   "metadata": {},
   "outputs": [
    {
     "name": "stdout",
     "output_type": "stream",
     "text": [
      "0.9788337521234922\n",
      "0.8564690580643378\n"
     ]
    }
   ],
   "source": [
    "print(randomF.score(train_input, train_target))\n",
    "print(randomF.score(test_input, test_target))"
   ]
  },
  {
   "cell_type": "code",
   "execution_count": 30,
   "id": "a070fe01",
   "metadata": {},
   "outputs": [
    {
     "data": {
      "text/plain": [
       "array([37.376, 15.955, 45.235, 15.816, 23.116, 16.363, 18.479, 16.61 ,\n",
       "       17.675, 20.315, 31.912, 28.91 , 16.245, 17.901, 23.171, 19.59 ,\n",
       "       18.674,  8.164, 20.846, 17.159, 15.775, 14.886, 47.83 , 14.739,\n",
       "       13.798, 26.641, 21.074, 19.485, 22.19 , 18.39 , 24.202, 34.424,\n",
       "        6.958, 26.525, 19.008, 21.217, 23.184, 21.443, 21.83 , 47.926,\n",
       "       14.488, 17.191, 22.937, 20.309, 19.99 , 21.076, 39.139, 21.947,\n",
       "       20.162, 19.435, 28.807, 36.069, 24.561, 12.561, 12.7  , 11.554,\n",
       "       16.59 , 32.527, 26.678, 13.919, 14.151, 46.701, 21.428, 20.235,\n",
       "       23.048, 18.311, 12.272,  6.627, 30.965, 26.319, 19.294, 16.009,\n",
       "       14.148, 22.942, 17.155, 27.529, 35.179, 23.171, 24.265, 23.64 ,\n",
       "       48.818, 34.137, 31.612, 24.07 , 22.472, 14.73 , 41.695, 19.619,\n",
       "       31.905, 25.199, 20.94 , 21.391,  8.945, 45.713, 43.136, 31.861,\n",
       "        9.246, 16.554, 20.533, 33.889, 16.82 , 43.474, 21.004, 23.223,\n",
       "       12.541, 19.81 , 24.265, 29.851, 28.492, 22.381, 30.505, 25.823,\n",
       "       33.073, 23.756, 21.225, 23.851, 10.055, 24.209, 22.876, 16.58 ,\n",
       "        8.984, 19.878, 24.447, 23.55 , 20.141, 22.423, 13.348, 30.599,\n",
       "       26.616, 33.868, 13.789, 15.413, 13.082, 14.339, 11.206, 24.497,\n",
       "       16.784, 11.727, 21.791, 14.72 , 25.039, 32.423, 40.653, 29.685,\n",
       "       19.697, 30.601, 43.142, 23.736, 20.918, 23.296, 18.419, 17.053,\n",
       "        7.944, 20.666, 20.151, 27.39 , 28.266, 20.829, 22.455, 14.897,\n",
       "       12.488, 36.13 , 17.975, 16.224, 22.179, 22.226, 20.619, 21.785,\n",
       "       45.386,  8.79 , 19.179, 36.03 , 17.61 , 19.366, 22.716, 21.021,\n",
       "       14.159, 46.307, 23.881, 22.241, 17.198, 30.711, 36.126, 43.257,\n",
       "       18.518, 21.758, 20.129, 45.898, 12.037, 19.204, 16.273, 22.19 ,\n",
       "        7.647, 20.112, 13.009, 13.622, 18.139, 20.973, 21.728, 21.457,\n",
       "       23.741, 46.761, 26.716, 22.038, 47.086,  9.024, 24.073, 21.473,\n",
       "       19.885, 18.753, 17.871, 13.753, 11.74 , 27.229, 20.174, 28.256,\n",
       "       20.938, 23.694, 13.197, 11.271, 29.724, 27.97 , 10.21 , 20.552,\n",
       "       23.85 , 44.939, 22.418,  9.425, 35.462, 42.047, 20.896, 26.08 ,\n",
       "       40.731, 14.441, 26.966, 11.555, 20.569, 43.749, 28.04 , 24.641,\n",
       "       17.353, 17.922, 15.257, 46.938, 21.983, 33.361, 15.408, 15.453,\n",
       "       14.354, 23.442, 33.153, 22.556, 48.859, 10.651, 14.37 , 22.61 ,\n",
       "       17.699, 17.819, 27.82 , 16.481, 23.148, 19.446, 32.513, 26.577,\n",
       "       18.802, 14.297, 34.815, 11.185, 20.362, 27.807, 22.338, 33.827,\n",
       "       12.409, 23.779, 18.773, 25.496, 21.413, 21.67 , 27.94 , 20.281,\n",
       "       26.487, 22.886, 21.278, 32.844, 22.904, 21.278, 23.546, 47.347,\n",
       "       24.265, 26.886,  8.534, 34.907, 21.068, 30.485, 19.48 , 22.289,\n",
       "       11.584, 21.786, 14.869, 15.609, 19.787, 11.163, 27.821, 22.498,\n",
       "       13.767, 14.195, 31.709, 12.146, 21.331, 22.149, 19.328, 21.009,\n",
       "       24.817, 18.811, 36.135, 20.668, 20.23 , 17.938, 26.591,  7.844,\n",
       "       37.57 , 48.712, 19.574, 21.528, 15.503, 33.835, 19.143, 21.306,\n",
       "       24.24 , 19.498, 16.86 , 20.354, 18.   , 21.96 , 11.716, 34.752,\n",
       "       20.247, 20.766, 30.945, 22.441, 22.944, 16.278, 30.9  , 23.286,\n",
       "       30.568, 19.51 , 21.53 , 18.489, 26.536, 33.543, 14.591, 30.285,\n",
       "        8.016, 23.675, 13.384, 25.374, 47.719, 25.947, 15.182, 19.163,\n",
       "       19.671, 22.195, 33.272, 40.938, 22.037, 15.177, 20.523, 22.268,\n",
       "       17.186, 21.425, 15.89 , 14.105, 29.487, 22.006, 19.047, 21.521,\n",
       "       25.626, 13.25 , 18.626])"
      ]
     },
     "execution_count": 30,
     "metadata": {},
     "output_type": "execute_result"
    }
   ],
   "source": [
    "randomF.predict(train_input)"
   ]
  },
  {
   "cell_type": "code",
   "execution_count": 31,
   "id": "0c4d1988",
   "metadata": {
    "scrolled": true
   },
   "outputs": [
    {
     "data": {
      "text/plain": [
       "array([22.695, 31.323, 16.682, 23.77 , 16.785, 21.13 , 19.158, 15.777,\n",
       "       21.511, 21.182, 20.189, 19.323,  8.94 , 21.263, 19.292, 26.174,\n",
       "       18.543,  8.511, 45.358, 14.875, 24.065, 23.86 , 14.691, 23.953,\n",
       "       14.842, 15.117, 21.46 , 14.067, 18.972, 20.551, 19.858, 23.479,\n",
       "       30.792, 20.256, 14.81 , 16.178, 34.644, 19.148, 20.72 , 24.101,\n",
       "       19.656, 29.008, 44.83 , 19.224, 22.293, 13.304, 15.094, 24.468,\n",
       "       18.583, 28.538, 21.637, 33.894, 16.602, 25.967, 45.902, 21.601,\n",
       "       14.947, 32.225, 21.948, 20.804, 25.04 , 34.008, 30.433, 18.805,\n",
       "       27.25 , 17.572, 13.399, 23.056, 29.233, 15.638, 20.64 , 28.065,\n",
       "       10.711, 21.567, 21.985,  7.329, 20.184, 45.495, 10.971, 13.333,\n",
       "       21.602, 11.478, 20.663,  9.432, 20.734, 27.105, 15.652, 23.351,\n",
       "       23.776, 17.746, 21.892,  7.998, 19.449, 19.428, 21.903, 19.684,\n",
       "       38.141, 11.444, 12.668, 12.303, 20.225, 23.399, 13.758, 20.19 ,\n",
       "       21.878, 12.604, 19.424, 24.639, 20.089, 23.243,  8.92 , 16.013,\n",
       "       22.456, 25.758, 31.69 , 14.297, 41.873, 16.128, 19.593, 23.715,\n",
       "       18.799, 23.921,  8.221, 20.463, 24.384, 21.866, 23.741])"
      ]
     },
     "execution_count": 31,
     "metadata": {},
     "output_type": "execute_result"
    }
   ],
   "source": [
    "randomF.predict(test_input)"
   ]
  },
  {
   "cell_type": "code",
   "execution_count": null,
   "id": "5ce5f177",
   "metadata": {},
   "outputs": [],
   "source": []
  }
 ],
 "metadata": {
  "kernelspec": {
   "display_name": "Python 3 (ipykernel)",
   "language": "python",
   "name": "python3"
  },
  "language_info": {
   "codemirror_mode": {
    "name": "ipython",
    "version": 3
   },
   "file_extension": ".py",
   "mimetype": "text/x-python",
   "name": "python",
   "nbconvert_exporter": "python",
   "pygments_lexer": "ipython3",
   "version": "3.11.5"
  }
 },
 "nbformat": 4,
 "nbformat_minor": 5
}
